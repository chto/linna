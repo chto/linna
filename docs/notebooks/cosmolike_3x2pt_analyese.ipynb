{
 "cells": [
  {
   "cell_type": "markdown",
   "id": "fcd4a3e8",
   "metadata": {},
   "source": [
    "In this page, we show how to sample a 3x2pt likelihood using cosmolike and LINNA. "
   ]
  },
  {
   "cell_type": "markdown",
   "id": "5acc3e0f",
   "metadata": {},
   "source": [
    "# Code "
   ]
  },
  {
   "cell_type": "markdown",
   "id": "8f261840",
   "metadata": {},
   "source": [
    "Cosmolike and LINNA wrapper are located in **linna/cosmolike_run.py**, which can be run as \n",
    "\n",
    "   `python cosmolike_run.py emcee {gpu node} ../yamlfile/training_3x2pt.yaml  {directory of additional yamlfiles}`. "
   ]
  },
  {
   "cell_type": "markdown",
   "id": "a33b80bb",
   "metadata": {},
   "source": [
    "# Yaml file"
   ]
  },
  {
   "cell_type": "markdown",
   "id": "4cfed218",
   "metadata": {},
   "source": [
    "An example yaml file is shown in **linna/yamlfile/training_3x2pt.yaml**\n",
    "\n"
   ]
  },
  {
   "cell_type": "code",
   "execution_count": 2,
   "id": "752cb332",
   "metadata": {},
   "outputs": [
    {
     "name": "stdout",
     "output_type": "stream",
     "text": [
      "#An example yaml file of using linna for cosmolike\r\n",
      "#####Cosmolike setting#######\r\n",
      "include: ['samplers_multinest_p1.yaml', 'DESY1_params.yaml']\r\n",
      "analysis_choice: [\"selection_bias\"]\r\n",
      "chain_file: \"analysis/dataanalysis/desy1/datav/test/ch\"\r\n",
      "data_file: \"analysis/speedup/ml/data/demo_data/combined.txt\"\r\n",
      "cov_file:  \"analysis/dataanalysis/desy1/datav_oak//covariance/cov_v8/cov\"\r\n",
      "outdir : \"/home/users/chto/code/lighthouse/analysis/speedup/ml/datav/3x2pt_test2/\"\r\n",
      "statsnames  : ['xip', 'xim', 'gammat', 'wtheta']\r\n",
      "run_mode    : CLASS\r\n",
      "rmarea_int : False\r\n",
      "rmphotoz_int : False\r\n",
      "nonlinear: 0\r\n",
      "omega_nuh2_range : [0.0005, 0.00083, 0.01]\r\n",
      "h0_range : [0.55, 0.7, 0.91]\r\n",
      "omega_b_range : [0.03,0.048, 0.07]\r\n",
      "A_s_range : [5.e-10,2.19e-9,5.e-9]\r\n",
      "shear_m_sigma: [0.023,0.023,0.023,0.023]\r\n",
      "lens_z_bias_mean: [0.008, -0.005, 0.006, 0.0, 0.0]\r\n",
      "lens_z_bias_sigma: [0.007,0.007,0.006, 0.01,0.01]\r\n",
      "\r\n",
      "####LINNA setting#####\r\n",
      "\r\n",
      "#####################\r\n",
      "#  EMCEE parameters #\r\n",
      "#####################\r\n",
      "nkeepArr : [2, 2, 5, 5] #number of correlation time to keep\r\n",
      "ntimesArr : [5, 5, 10, 15] #number of correlation time to terminate\r\n",
      "ntautolArr : [0.03, 0.03, 0.02, 0.01] #tolerance of correlation time error\r\n",
      "#####################\r\n",
      "# Training parameter#\r\n",
      "#####################\r\n",
      "temperatureArr : [4.0, 2.0, 1.0, 1.0] #Temperature of posterior \r\n",
      "ntrainArr : [10000, 10000, 10000, 10000] #Number of training data \r\n",
      "nvalArr : [500, 500, 500, 500] #Number of validation data \r\n",
      "nnmodel: \"ChtoModelv2\" #Neural network model implemented in nn.py\r\n",
      "num_epochs: 4500       #Maximum number of epoch for training \r\n",
      "batch_size: 500        #Batch size of training \r\n",
      "trainingoption: 1      #Randomly sample the chain for training data \r\n"
     ]
    }
   ],
   "source": [
    "! cat ../..//yamlfile/training_3x2pt.yaml"
   ]
  },
  {
   "cell_type": "markdown",
   "id": "0d043bdc",
   "metadata": {},
   "source": [
    "# Job script"
   ]
  },
  {
   "cell_type": "markdown",
   "id": "5f885243",
   "metadata": {},
   "source": [
    "In cosmological analysis, one usually submit jobs on the supercomputer. \n",
    "In **linna/jobscript/example_sampler.job**, we give an exmaple slurm job script, which can be submitted using \n",
    "\n",
    "`\n",
    "sbatch example_sampler.job\n",
    "`"
   ]
  },
  {
   "cell_type": "code",
   "execution_count": 4,
   "id": "7da705cb",
   "metadata": {},
   "outputs": [
    {
     "name": "stdout",
     "output_type": "stream",
     "text": [
      "#!/bin/bash\r\n",
      "#SBATCH --job-name=linna\r\n",
      "#SBATCH --output=./job/linna_%A_%a.out\r\n",
      "#SBATCH --error=./job/linna_%A_%a.err\r\n",
      "#SBATCH --array=0\r\n",
      "#SBATCH --time=24:00:00\r\n",
      "#SBATCH -p kipac\r\n",
      "#SBATCH --mem-per-cpu=4G\r\n",
      "#SBATCH --cpus-per-task=1\r\n",
      "#SBATCH --ntasks=128\r\n",
      "#SBATCH --mail-user=chto\r\n",
      "#SBATCH --mail-type=ALL\r\n",
      "srun --kill-on-bad-exit=1 python ../linna/cosmolike_run.py emcee sh03-12n07 ../yamlfile/training_3x2pt.yaml /home/users/chto/code/lighthouse/analysis/yamlfiles/\r\n"
     ]
    }
   ],
   "source": [
    "! cat ../../jobscript/example_sampler.job"
   ]
  },
  {
   "cell_type": "markdown",
   "id": "370b8383",
   "metadata": {},
   "source": [
    "- **sh03-12n07** is the node that has a gpu. \n",
    "- **../yamlfile/training_3x2pt.yaml** is the yamlfile \n",
    "- **/home/users/chto/code/lighthouse/analysis/yamlfiles/** is the directory that contains more yamlfiles, which are included in training_3x2pt.yaml via *include*"
   ]
  }
 ],
 "metadata": {
  "kernelspec": {
   "display_name": "Python 3",
   "language": "python",
   "name": "python3"
  },
  "language_info": {
   "codemirror_mode": {
    "name": "ipython",
    "version": 3
   },
   "file_extension": ".py",
   "mimetype": "text/x-python",
   "name": "python",
   "nbconvert_exporter": "python",
   "pygments_lexer": "ipython3",
   "version": "3.9.7"
  }
 },
 "nbformat": 4,
 "nbformat_minor": 5
}
