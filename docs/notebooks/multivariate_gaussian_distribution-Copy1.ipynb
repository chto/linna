{
 "cells": [
  {
   "cell_type": "code",
   "execution_count": 3,
   "id": "cb838744",
   "metadata": {},
   "outputs": [
    {
     "name": "stdout",
     "output_type": "stream",
     "text": [
      "The autoreload extension is already loaded. To reload it, use:\n",
      "  %reload_ext autoreload\n"
     ]
    }
   ],
   "source": [
    "import numpy as np\n",
    "import matplotlib.pyplot as plt \n",
    "from linna.main import ml_sampler,ml_sampler_core\n",
    "from linna.util import *\n",
    "%load_ext autoreload\n",
    "%autoreload 2 \n",
    "%matplotlib inline "
   ]
  },
  {
   "cell_type": "markdown",
   "id": "ee42b29c",
   "metadata": {},
   "source": [
    "In this notebook, we sample a 2d gaussian posterior using LINNA. LINNA isn't designed for low dimension posteiors, so the performance will not be great. However, this notebook illustrates how one can use LINNA to sample posteriors. "
   ]
  },
  {
   "cell_type": "markdown",
   "id": "5eb2a8db",
   "metadata": {},
   "source": [
    "# Create a multivariate gaussian distribution "
   ]
  },
  {
   "cell_type": "code",
   "execution_count": 4,
   "id": "1bc24870",
   "metadata": {},
   "outputs": [],
   "source": [
    "ndim = 1\n",
    "init =  np.random.uniform(size=ndim)\n",
    "#mean value\n",
    "means = np.array([0, 0.5])\n",
    "ndim = len(init)\n",
    "#covariance matrix\n",
    "cov = np.diag([1, 1])\n",
    "\n",
    "priors = []\n",
    "for i in range(ndim):\n",
    "    priors.append({\n",
    "        'param': 'test_{0}'.format(i),\n",
    "        'dist': 'flat',\n",
    "        'arg1': -3,\n",
    "        'arg2':3\n",
    "    })\n",
    "def theory(x, outdirs):\n",
    "    x_new = deepcopy(x[1])\n",
    "    return x_new\n",
    "nwalkers = 8 #Number of mcmc walker\n"
   ]
  },
  {
   "cell_type": "code",
   "execution_count": 33,
   "id": "5edf45c2",
   "metadata": {},
   "outputs": [],
   "source": [
    "outdir = \"/oak/stanford/orgs/kipac/users/chto/lighthouse/python/nnacc/2dgaussian/\"\n"
   ]
  },
  {
   "cell_type": "code",
   "execution_count": 34,
   "id": "0ae7c903",
   "metadata": {},
   "outputs": [
    {
     "name": "stderr",
     "output_type": "stream",
     "text": [
      "Process ForkPoolWorker-55:\n",
      "Process ForkPoolWorker-52:\n",
      "Process ForkPoolWorker-54:\n",
      "Process ForkPoolWorker-56:\n",
      "Process ForkPoolWorker-49:\n",
      "Process ForkPoolWorker-53:\n",
      "Process ForkPoolWorker-51:\n",
      "Process ForkPoolWorker-50:\n",
      "Traceback (most recent call last):\n",
      "Traceback (most recent call last):\n",
      "Traceback (most recent call last):\n",
      "  File \"/home/users/chto/miniconda3/envs/newenv4/lib/python3.9/multiprocessing/process.py\", line 315, in _bootstrap\n",
      "    self.run()\n",
      "  File \"/home/users/chto/miniconda3/envs/newenv4/lib/python3.9/multiprocessing/process.py\", line 315, in _bootstrap\n",
      "    self.run()\n",
      "  File \"/home/users/chto/miniconda3/envs/newenv4/lib/python3.9/multiprocessing/process.py\", line 315, in _bootstrap\n",
      "    self.run()\n",
      "Traceback (most recent call last):\n",
      "  File \"/home/users/chto/miniconda3/envs/newenv4/lib/python3.9/multiprocessing/process.py\", line 108, in run\n",
      "    self._target(*self._args, **self._kwargs)\n",
      "  File \"/home/users/chto/miniconda3/envs/newenv4/lib/python3.9/multiprocessing/process.py\", line 108, in run\n",
      "    self._target(*self._args, **self._kwargs)\n",
      "  File \"/home/users/chto/miniconda3/envs/newenv4/lib/python3.9/multiprocessing/process.py\", line 108, in run\n",
      "    self._target(*self._args, **self._kwargs)\n",
      "  File \"/home/users/chto/miniconda3/envs/newenv4/lib/python3.9/multiprocessing/process.py\", line 315, in _bootstrap\n",
      "    self.run()\n",
      "  File \"/home/users/chto/miniconda3/envs/newenv4/lib/python3.9/multiprocessing/pool.py\", line 114, in worker\n",
      "    task = get()\n",
      "  File \"/home/users/chto/miniconda3/envs/newenv4/lib/python3.9/multiprocessing/pool.py\", line 114, in worker\n",
      "    task = get()\n",
      "  File \"/home/users/chto/miniconda3/envs/newenv4/lib/python3.9/multiprocessing/pool.py\", line 114, in worker\n",
      "    task = get()\n",
      "  File \"/home/users/chto/miniconda3/envs/newenv4/lib/python3.9/multiprocessing/process.py\", line 108, in run\n",
      "    self._target(*self._args, **self._kwargs)\n",
      "  File \"/home/users/chto/miniconda3/envs/newenv4/lib/python3.9/multiprocessing/queues.py\", line 365, in get\n",
      "    with self._rlock:\n",
      "Traceback (most recent call last):\n",
      "Traceback (most recent call last):\n",
      "Traceback (most recent call last):\n",
      "Traceback (most recent call last):\n",
      "  File \"/home/users/chto/miniconda3/envs/newenv4/lib/python3.9/multiprocessing/queues.py\", line 365, in get\n",
      "    with self._rlock:\n",
      "  File \"/home/users/chto/miniconda3/envs/newenv4/lib/python3.9/multiprocessing/queues.py\", line 365, in get\n",
      "    with self._rlock:\n",
      "  File \"/home/users/chto/miniconda3/envs/newenv4/lib/python3.9/multiprocessing/pool.py\", line 114, in worker\n",
      "    task = get()\n",
      "  File \"/home/users/chto/miniconda3/envs/newenv4/lib/python3.9/multiprocessing/synchronize.py\", line 95, in __enter__\n",
      "    return self._semlock.__enter__()\n",
      "  File \"/home/users/chto/miniconda3/envs/newenv4/lib/python3.9/multiprocessing/process.py\", line 315, in _bootstrap\n",
      "    self.run()\n",
      "  File \"/home/users/chto/miniconda3/envs/newenv4/lib/python3.9/multiprocessing/process.py\", line 315, in _bootstrap\n",
      "    self.run()\n",
      "  File \"/home/users/chto/miniconda3/envs/newenv4/lib/python3.9/multiprocessing/process.py\", line 315, in _bootstrap\n",
      "    self.run()\n",
      "  File \"/home/users/chto/miniconda3/envs/newenv4/lib/python3.9/multiprocessing/synchronize.py\", line 95, in __enter__\n",
      "    return self._semlock.__enter__()\n",
      "  File \"/home/users/chto/miniconda3/envs/newenv4/lib/python3.9/multiprocessing/process.py\", line 315, in _bootstrap\n",
      "    self.run()\n",
      "  File \"/home/users/chto/miniconda3/envs/newenv4/lib/python3.9/multiprocessing/synchronize.py\", line 95, in __enter__\n",
      "    return self._semlock.__enter__()\n",
      "  File \"/home/users/chto/miniconda3/envs/newenv4/lib/python3.9/multiprocessing/queues.py\", line 366, in get\n",
      "    res = self._reader.recv_bytes()\n",
      "KeyboardInterrupt\n",
      "  File \"/home/users/chto/miniconda3/envs/newenv4/lib/python3.9/multiprocessing/process.py\", line 108, in run\n",
      "    self._target(*self._args, **self._kwargs)\n",
      "  File \"/home/users/chto/miniconda3/envs/newenv4/lib/python3.9/multiprocessing/process.py\", line 108, in run\n",
      "    self._target(*self._args, **self._kwargs)\n",
      "  File \"/home/users/chto/miniconda3/envs/newenv4/lib/python3.9/multiprocessing/process.py\", line 108, in run\n",
      "    self._target(*self._args, **self._kwargs)\n",
      "KeyboardInterrupt\n",
      "KeyboardInterrupt\n",
      "  File \"/home/users/chto/miniconda3/envs/newenv4/lib/python3.9/multiprocessing/process.py\", line 108, in run\n",
      "    self._target(*self._args, **self._kwargs)\n",
      "  File \"/home/users/chto/miniconda3/envs/newenv4/lib/python3.9/multiprocessing/connection.py\", line 221, in recv_bytes\n",
      "    buf = self._recv_bytes(maxlength)\n",
      "  File \"/home/users/chto/miniconda3/envs/newenv4/lib/python3.9/multiprocessing/pool.py\", line 114, in worker\n",
      "    task = get()\n",
      "  File \"/home/users/chto/miniconda3/envs/newenv4/lib/python3.9/multiprocessing/pool.py\", line 114, in worker\n",
      "    task = get()\n",
      "  File \"/home/users/chto/miniconda3/envs/newenv4/lib/python3.9/multiprocessing/pool.py\", line 114, in worker\n",
      "    task = get()\n",
      "  File \"/home/users/chto/miniconda3/envs/newenv4/lib/python3.9/multiprocessing/pool.py\", line 114, in worker\n",
      "    task = get()\n",
      "  File \"/home/users/chto/miniconda3/envs/newenv4/lib/python3.9/multiprocessing/connection.py\", line 419, in _recv_bytes\n",
      "    buf = self._recv(4)\n",
      "  File \"/home/users/chto/miniconda3/envs/newenv4/lib/python3.9/multiprocessing/queues.py\", line 365, in get\n",
      "    with self._rlock:\n",
      "  File \"/home/users/chto/miniconda3/envs/newenv4/lib/python3.9/multiprocessing/queues.py\", line 365, in get\n",
      "    with self._rlock:\n",
      "  File \"/home/users/chto/miniconda3/envs/newenv4/lib/python3.9/multiprocessing/queues.py\", line 365, in get\n",
      "    with self._rlock:\n",
      "  File \"/home/users/chto/miniconda3/envs/newenv4/lib/python3.9/multiprocessing/queues.py\", line 365, in get\n",
      "    with self._rlock:\n",
      "  File \"/home/users/chto/miniconda3/envs/newenv4/lib/python3.9/multiprocessing/connection.py\", line 384, in _recv\n",
      "    chunk = read(handle, remaining)\n",
      "  File \"/home/users/chto/miniconda3/envs/newenv4/lib/python3.9/multiprocessing/synchronize.py\", line 95, in __enter__\n",
      "    return self._semlock.__enter__()\n",
      "  File \"/home/users/chto/miniconda3/envs/newenv4/lib/python3.9/multiprocessing/synchronize.py\", line 95, in __enter__\n",
      "    return self._semlock.__enter__()\n",
      "  File \"/home/users/chto/miniconda3/envs/newenv4/lib/python3.9/multiprocessing/synchronize.py\", line 95, in __enter__\n",
      "    return self._semlock.__enter__()\n",
      "  File \"/home/users/chto/miniconda3/envs/newenv4/lib/python3.9/multiprocessing/synchronize.py\", line 95, in __enter__\n",
      "    return self._semlock.__enter__()\n",
      "KeyboardInterrupt\n",
      "KeyboardInterrupt\n",
      "KeyboardInterrupt\n",
      "KeyboardInterrupt\n",
      "KeyboardInterrupt\n"
     ]
    }
   ],
   "source": [
    "class newpools():\n",
    "    def __init__(self, pool):\n",
    "        self.pool = pool\n",
    "    def map(self, x1, x2):\n",
    "        return self.pool.map(x1, x2)\n",
    "    def is_master(self):\n",
    "        return True\n",
    "pool = newpools(Pool(8))"
   ]
  },
  {
   "cell_type": "code",
   "execution_count": 35,
   "id": "11485bbd",
   "metadata": {},
   "outputs": [],
   "source": [
    "omegab2cut=None\n",
    "nepoch=200\n",
    "method=\"zeus\"\n",
    "nbest=None\n",
    "chisqcut=None\n",
    "loglikelihoodfunc=None\n",
    "data=means"
   ]
  },
  {
   "cell_type": "code",
   "execution_count": null,
   "id": "a2bf2807",
   "metadata": {},
   "outputs": [
    {
     "name": "stdout",
     "output_type": "stream",
     "text": [
      "####################################################################################################\n",
      "iteration: 0\n",
      "####################################################################################################\n"
     ]
    },
    {
     "name": "stderr",
     "output_type": "stream",
     "text": [
      "Exception ignored in: <Finalize object, dead>\n",
      "Traceback (most recent call last):\n",
      "  File \"/home/users/chto/miniconda3/envs/newenv4/lib/python3.9/multiprocessing/util.py\", line 224, in __call__\n",
      "    res = self._callback(*self._args, **self._kwargs)\n",
      "  File \"/home/users/chto/miniconda3/envs/newenv4/lib/python3.9/multiprocessing/pool.py\", line 692, in _terminate_pool\n",
      "    cls._help_stuff_finish(inqueue, task_handler, len(pool))\n",
      "  File \"/home/users/chto/miniconda3/envs/newenv4/lib/python3.9/multiprocessing/pool.py\", line 672, in _help_stuff_finish\n",
      "    inqueue._rlock.acquire()\n",
      "KeyboardInterrupt: \n"
     ]
    }
   ],
   "source": [
    "ntrainArr = [100, 100, 1000, 10000]\n",
    "nvalArr = [10,10,100,1000]\n",
    "\n",
    "nkeepArr = [2, 2, 5, 5]\n",
    "ntimesArr = [5, 5, 10, 50]\n",
    "ntautolArr = [0.03, 0.03, 0.02, 0.01]\n",
    "temperatureArr =  [4.0, 2.0, 1.0, 1.0]\n",
    "meanshiftArr = [0.2, 0.2, 0.2, 0.2]\n",
    "stdshiftArr = [0.15,0.15,0.15,0.15]\n",
    "\n",
    "dolog10index = None\n",
    "ypositive = False\n",
    "device = \"cuda\"\n",
    "docuda=False\n",
    "tsize=1\n",
    "nnmodel_in = ChtoModelv2\n",
    "params = {}\n",
    "params[\"trainingoption\"] = 1\n",
    "params[\"num_epochs\"] = nepoch\n",
    "params[\"batch_size\"] = 500\n",
    "chain, logprob= ml_sampler_core(ntrainArr, nvalArr, nkeepArr, ntimesArr, ntautolArr, meanshiftArr, stdshiftArr, outdir, theory, priors, data, cov,  init, pool, nwalkers, device, dolog10index, ypositive, temperatureArr, omegab2cut, docuda, tsize, gpunode, nnmodel_in, params, method, nbest=nbest, chisqcut=chisqcut, loglikelihoodfunc=loglikelihoodfunc)"
   ]
  },
  {
   "cell_type": "markdown",
   "id": "a50a03e7",
   "metadata": {},
   "source": [
    "# Perform MCMC sampling using Linna"
   ]
  },
  {
   "cell_type": "code",
   "execution_count": 10,
   "id": "779e2a51",
   "metadata": {},
   "outputs": [
    {
     "name": "stdout",
     "output_type": "stream",
     "text": [
      "####################################################################################################\n",
      "iteration: 0\n",
      "####################################################################################################\n"
     ]
    },
    {
     "ename": "IndexError",
     "evalue": "list index out of range",
     "output_type": "error",
     "traceback": [
      "\u001b[0;31m---------------------------------------------------------------------------\u001b[0m",
      "\u001b[0;31mIndexError\u001b[0m                                Traceback (most recent call last)",
      "\u001b[0;32m<ipython-input-10-f4004f0bc8c6>\u001b[0m in \u001b[0;36m<module>\u001b[0;34m\u001b[0m\n\u001b[1;32m      1\u001b[0m \u001b[0moutdir\u001b[0m \u001b[0;34m=\u001b[0m \u001b[0mos\u001b[0m\u001b[0;34m.\u001b[0m\u001b[0mpath\u001b[0m\u001b[0;34m.\u001b[0m\u001b[0mabspath\u001b[0m\u001b[0;34m(\u001b[0m\u001b[0mos\u001b[0m\u001b[0;34m.\u001b[0m\u001b[0mgetcwd\u001b[0m\u001b[0;34m(\u001b[0m\u001b[0;34m)\u001b[0m\u001b[0;34m)\u001b[0m\u001b[0;34m+\u001b[0m\u001b[0;34m\"/out/2dgaussian2/\"\u001b[0m\u001b[0;34m\u001b[0m\u001b[0;34m\u001b[0m\u001b[0m\n\u001b[1;32m      2\u001b[0m \u001b[0mgpunode\u001b[0m \u001b[0;34m=\u001b[0m \u001b[0;32mNone\u001b[0m\u001b[0;34m\u001b[0m\u001b[0;34m\u001b[0m\u001b[0m\n\u001b[0;32m----> 3\u001b[0;31m \u001b[0mchain\u001b[0m\u001b[0;34m,\u001b[0m \u001b[0mlogprob\u001b[0m \u001b[0;34m=\u001b[0m \u001b[0mml_sampler\u001b[0m\u001b[0;34m(\u001b[0m\u001b[0moutdir\u001b[0m\u001b[0;34m,\u001b[0m \u001b[0mtheory\u001b[0m\u001b[0;34m,\u001b[0m \u001b[0mpriors\u001b[0m\u001b[0;34m,\u001b[0m \u001b[0mmeans\u001b[0m\u001b[0;34m,\u001b[0m \u001b[0mcov\u001b[0m\u001b[0;34m,\u001b[0m \u001b[0minit\u001b[0m\u001b[0;34m,\u001b[0m \u001b[0mpool\u001b[0m\u001b[0;34m,\u001b[0m \u001b[0mnwalkers\u001b[0m\u001b[0;34m,\u001b[0m \u001b[0mgpunode\u001b[0m\u001b[0;34m)\u001b[0m\u001b[0;34m\u001b[0m\u001b[0;34m\u001b[0m\u001b[0m\n\u001b[0m",
      "\u001b[0;32m~/miniconda3/envs/newenv4/lib/python3.9/site-packages/linna-0.0.3-py3.9.egg/linna/main.py\u001b[0m in \u001b[0;36mml_sampler\u001b[0;34m(outdir, theory, priors, data, cov, init, pool, nwalkers, gpunode, omegab2cut, nepoch, method, nbest, chisqcut, loglikelihoodfunc)\u001b[0m\n\u001b[1;32m     73\u001b[0m     \u001b[0mparams\u001b[0m\u001b[0;34m[\u001b[0m\u001b[0;34m\"num_epochs\"\u001b[0m\u001b[0;34m]\u001b[0m \u001b[0;34m=\u001b[0m \u001b[0mnepoch\u001b[0m\u001b[0;34m\u001b[0m\u001b[0;34m\u001b[0m\u001b[0m\n\u001b[1;32m     74\u001b[0m     \u001b[0mparams\u001b[0m\u001b[0;34m[\u001b[0m\u001b[0;34m\"batch_size\"\u001b[0m\u001b[0;34m]\u001b[0m \u001b[0;34m=\u001b[0m \u001b[0;36m500\u001b[0m\u001b[0;34m\u001b[0m\u001b[0;34m\u001b[0m\u001b[0m\n\u001b[0;32m---> 75\u001b[0;31m     \u001b[0;32mreturn\u001b[0m \u001b[0mml_sampler_core\u001b[0m\u001b[0;34m(\u001b[0m\u001b[0mntrainArr\u001b[0m\u001b[0;34m,\u001b[0m \u001b[0mnvalArr\u001b[0m\u001b[0;34m,\u001b[0m \u001b[0mnkeepArr\u001b[0m\u001b[0;34m,\u001b[0m \u001b[0mntimesArr\u001b[0m\u001b[0;34m,\u001b[0m \u001b[0mntautolArr\u001b[0m\u001b[0;34m,\u001b[0m \u001b[0mmeanshiftArr\u001b[0m\u001b[0;34m,\u001b[0m \u001b[0mstdshiftArr\u001b[0m\u001b[0;34m,\u001b[0m \u001b[0moutdir\u001b[0m\u001b[0;34m,\u001b[0m \u001b[0mtheory\u001b[0m\u001b[0;34m,\u001b[0m \u001b[0mpriors\u001b[0m\u001b[0;34m,\u001b[0m \u001b[0mdata\u001b[0m\u001b[0;34m,\u001b[0m \u001b[0mcov\u001b[0m\u001b[0;34m,\u001b[0m  \u001b[0minit\u001b[0m\u001b[0;34m,\u001b[0m \u001b[0mpool\u001b[0m\u001b[0;34m,\u001b[0m \u001b[0mnwalkers\u001b[0m\u001b[0;34m,\u001b[0m \u001b[0mdevice\u001b[0m\u001b[0;34m,\u001b[0m \u001b[0mdolog10index\u001b[0m\u001b[0;34m,\u001b[0m \u001b[0mypositive\u001b[0m\u001b[0;34m,\u001b[0m \u001b[0mtemperatureArr\u001b[0m\u001b[0;34m,\u001b[0m \u001b[0momegab2cut\u001b[0m\u001b[0;34m,\u001b[0m \u001b[0mdocuda\u001b[0m\u001b[0;34m,\u001b[0m \u001b[0mtsize\u001b[0m\u001b[0;34m,\u001b[0m \u001b[0mgpunode\u001b[0m\u001b[0;34m,\u001b[0m \u001b[0mnnmodel_in\u001b[0m\u001b[0;34m,\u001b[0m \u001b[0mparams\u001b[0m\u001b[0;34m,\u001b[0m \u001b[0mmethod\u001b[0m\u001b[0;34m,\u001b[0m \u001b[0mnbest\u001b[0m\u001b[0;34m=\u001b[0m\u001b[0mnbest\u001b[0m\u001b[0;34m,\u001b[0m \u001b[0mchisqcut\u001b[0m\u001b[0;34m=\u001b[0m\u001b[0mchisqcut\u001b[0m\u001b[0;34m,\u001b[0m \u001b[0mloglikelihoodfunc\u001b[0m\u001b[0;34m=\u001b[0m\u001b[0mloglikelihoodfunc\u001b[0m\u001b[0;34m)\u001b[0m\u001b[0;34m\u001b[0m\u001b[0;34m\u001b[0m\u001b[0m\n\u001b[0m\u001b[1;32m     76\u001b[0m \u001b[0;34m\u001b[0m\u001b[0m\n\u001b[1;32m     77\u001b[0m \u001b[0;32mdef\u001b[0m \u001b[0mml_sampler_core\u001b[0m\u001b[0;34m(\u001b[0m\u001b[0mntrainArr\u001b[0m\u001b[0;34m,\u001b[0m \u001b[0mnvalArr\u001b[0m\u001b[0;34m,\u001b[0m \u001b[0mnkeepArr\u001b[0m\u001b[0;34m,\u001b[0m \u001b[0mntimesArr\u001b[0m\u001b[0;34m,\u001b[0m \u001b[0mntautolArr\u001b[0m\u001b[0;34m,\u001b[0m \u001b[0mmeanshiftArr\u001b[0m\u001b[0;34m,\u001b[0m \u001b[0mstdshiftArr\u001b[0m\u001b[0;34m,\u001b[0m \u001b[0moutdir\u001b[0m\u001b[0;34m,\u001b[0m \u001b[0mtheory\u001b[0m\u001b[0;34m,\u001b[0m \u001b[0mpriors\u001b[0m\u001b[0;34m,\u001b[0m \u001b[0mdata\u001b[0m\u001b[0;34m,\u001b[0m \u001b[0mcov\u001b[0m\u001b[0;34m,\u001b[0m  \u001b[0minit\u001b[0m\u001b[0;34m,\u001b[0m \u001b[0mpool\u001b[0m\u001b[0;34m,\u001b[0m \u001b[0mnwalkers\u001b[0m\u001b[0;34m,\u001b[0m \u001b[0mdevice\u001b[0m\u001b[0;34m,\u001b[0m \u001b[0mdolog10index\u001b[0m\u001b[0;34m,\u001b[0m \u001b[0mypositive\u001b[0m\u001b[0;34m,\u001b[0m \u001b[0mtemperatureArr\u001b[0m\u001b[0;34m,\u001b[0m \u001b[0momegab2cut\u001b[0m\u001b[0;34m=\u001b[0m\u001b[0;32mNone\u001b[0m\u001b[0;34m,\u001b[0m \u001b[0mdocuda\u001b[0m\u001b[0;34m=\u001b[0m\u001b[0;32mFalse\u001b[0m\u001b[0;34m,\u001b[0m \u001b[0mtsize\u001b[0m\u001b[0;34m=\u001b[0m\u001b[0;36m1\u001b[0m\u001b[0;34m,\u001b[0m \u001b[0mgpunode\u001b[0m\u001b[0;34m=\u001b[0m\u001b[0;32mNone\u001b[0m\u001b[0;34m,\u001b[0m \u001b[0mnnmodel_in\u001b[0m\u001b[0;34m=\u001b[0m\u001b[0;32mNone\u001b[0m\u001b[0;34m,\u001b[0m \u001b[0mparams\u001b[0m\u001b[0;34m=\u001b[0m\u001b[0;32mNone\u001b[0m\u001b[0;34m,\u001b[0m \u001b[0mmethod\u001b[0m\u001b[0;34m=\u001b[0m\u001b[0;34m\"emcee\"\u001b[0m\u001b[0;34m,\u001b[0m \u001b[0mnbest\u001b[0m\u001b[0;34m=\u001b[0m\u001b[0;32mNone\u001b[0m\u001b[0;34m,\u001b[0m \u001b[0mchisqcut\u001b[0m\u001b[0;34m=\u001b[0m\u001b[0;32mNone\u001b[0m\u001b[0;34m,\u001b[0m \u001b[0mloglikelihoodfunc\u001b[0m\u001b[0;34m=\u001b[0m\u001b[0;32mNone\u001b[0m\u001b[0;34m,\u001b[0m \u001b[0mnsigma\u001b[0m\u001b[0;34m=\u001b[0m\u001b[0;36m3\u001b[0m\u001b[0;34m)\u001b[0m\u001b[0;34m:\u001b[0m\u001b[0;34m\u001b[0m\u001b[0;34m\u001b[0m\u001b[0m\n",
      "\u001b[0;32m~/miniconda3/envs/newenv4/lib/python3.9/site-packages/linna-0.0.3-py3.9.egg/linna/main.py\u001b[0m in \u001b[0;36mml_sampler_core\u001b[0;34m(ntrainArr, nvalArr, nkeepArr, ntimesArr, ntautolArr, meanshiftArr, stdshiftArr, outdir, theory, priors, data, cov, init, pool, nwalkers, device, dolog10index, ypositive, temperatureArr, omegab2cut, docuda, tsize, gpunode, nnmodel_in, params, method, nbest, chisqcut, loglikelihoodfunc, nsigma)\u001b[0m\n\u001b[1;32m    173\u001b[0m         \u001b[0;32melse\u001b[0m\u001b[0;34m:\u001b[0m\u001b[0;34m\u001b[0m\u001b[0;34m\u001b[0m\u001b[0m\n\u001b[1;32m    174\u001b[0m             \u001b[0moptions\u001b[0m \u001b[0;34m=\u001b[0m \u001b[0;36m0\u001b[0m\u001b[0;34m\u001b[0m\u001b[0;34m\u001b[0m\u001b[0m\n\u001b[0;32m--> 175\u001b[0;31m         \u001b[0mgenerate_training_point\u001b[0m\u001b[0;34m(\u001b[0m\u001b[0mtheory\u001b[0m\u001b[0;34m,\u001b[0m \u001b[0mnnsampler\u001b[0m\u001b[0;34m,\u001b[0m \u001b[0mpool\u001b[0m\u001b[0;34m,\u001b[0m \u001b[0moutdir_in\u001b[0m\u001b[0;34m,\u001b[0m \u001b[0mntrain\u001b[0m\u001b[0;34m,\u001b[0m \u001b[0mnval\u001b[0m\u001b[0;34m,\u001b[0m \u001b[0mdata\u001b[0m\u001b[0;34m,\u001b[0m \u001b[0minv_cov\u001b[0m\u001b[0;34m,\u001b[0m \u001b[0mchain\u001b[0m\u001b[0;34m,\u001b[0m \u001b[0mnsigma\u001b[0m\u001b[0;34m=\u001b[0m\u001b[0mnsigma\u001b[0m\u001b[0;34m,\u001b[0m \u001b[0momegab2cut\u001b[0m\u001b[0;34m=\u001b[0m\u001b[0momegab2cut\u001b[0m\u001b[0;34m,\u001b[0m \u001b[0moptions\u001b[0m\u001b[0;34m=\u001b[0m\u001b[0moptions\u001b[0m\u001b[0;34m,\u001b[0m  \u001b[0mnegloglike\u001b[0m\u001b[0;34m=\u001b[0m \u001b[0mnegloglike\u001b[0m\u001b[0;34m,\u001b[0m \u001b[0mnbest_in\u001b[0m\u001b[0;34m=\u001b[0m\u001b[0mnbest_in\u001b[0m\u001b[0;34m,\u001b[0m \u001b[0mchisqcut\u001b[0m\u001b[0;34m=\u001b[0m\u001b[0mchisqcut\u001b[0m\u001b[0;34m)\u001b[0m\u001b[0;34m\u001b[0m\u001b[0;34m\u001b[0m\u001b[0m\n\u001b[0m\u001b[1;32m    176\u001b[0m         \u001b[0mchain\u001b[0m \u001b[0;34m=\u001b[0m \u001b[0;32mNone\u001b[0m\u001b[0;34m\u001b[0m\u001b[0;34m\u001b[0m\u001b[0m\n\u001b[1;32m    177\u001b[0m         \u001b[0;32mdel\u001b[0m \u001b[0mchain\u001b[0m\u001b[0;34m\u001b[0m\u001b[0;34m\u001b[0m\u001b[0m\n",
      "\u001b[0;32m~/miniconda3/envs/newenv4/lib/python3.9/site-packages/linna-0.0.3-py3.9.egg/linna/util.py\u001b[0m in \u001b[0;36mgenerate_training_point\u001b[0;34m(theory, nnsampler, pool, outdir, ntrain, nval, data, invcov, chain, nsigma, omegab2cut, options, negloglike, nbest_in, chisqcut)\u001b[0m\n\u001b[1;32m   1091\u001b[0m         \u001b[0;32mif\u001b[0m \u001b[0;32mnot\u001b[0m \u001b[0mos\u001b[0m\u001b[0;34m.\u001b[0m\u001b[0mpath\u001b[0m\u001b[0;34m.\u001b[0m\u001b[0misfile\u001b[0m\u001b[0;34m(\u001b[0m\u001b[0mos\u001b[0m\u001b[0;34m.\u001b[0m\u001b[0mpath\u001b[0m\u001b[0;34m.\u001b[0m\u001b[0mjoin\u001b[0m\u001b[0;34m(\u001b[0m\u001b[0moutdir\u001b[0m\u001b[0;34m,\u001b[0m \u001b[0;34m\"train_samples_x.txt\"\u001b[0m\u001b[0;34m)\u001b[0m\u001b[0;34m)\u001b[0m\u001b[0;34m:\u001b[0m\u001b[0;34m\u001b[0m\u001b[0;34m\u001b[0m\u001b[0m\n\u001b[1;32m   1092\u001b[0m             \u001b[0;32mif\u001b[0m \u001b[0mchain\u001b[0m \u001b[0;32mis\u001b[0m \u001b[0;32mNone\u001b[0m\u001b[0;34m:\u001b[0m\u001b[0;34m\u001b[0m\u001b[0;34m\u001b[0m\u001b[0m\n\u001b[0;32m-> 1093\u001b[0;31m                 \u001b[0msamples\u001b[0m \u001b[0;34m=\u001b[0m \u001b[0mnnsampler\u001b[0m\u001b[0;34m.\u001b[0m\u001b[0mgensample_flat\u001b[0m\u001b[0;34m(\u001b[0m\u001b[0mntrain\u001b[0m\u001b[0;34m,\u001b[0m \u001b[0momegab2cut\u001b[0m\u001b[0;34m=\u001b[0m\u001b[0momegab2cut\u001b[0m\u001b[0;34m)\u001b[0m\u001b[0;34m\u001b[0m\u001b[0;34m\u001b[0m\u001b[0m\n\u001b[0m\u001b[1;32m   1094\u001b[0m             \u001b[0;32melse\u001b[0m\u001b[0;34m:\u001b[0m\u001b[0;34m\u001b[0m\u001b[0;34m\u001b[0m\u001b[0m\n\u001b[1;32m   1095\u001b[0m                 \u001b[0;32mif\u001b[0m \u001b[0moptions\u001b[0m\u001b[0;34m==\u001b[0m\u001b[0;36m0\u001b[0m\u001b[0;34m:\u001b[0m\u001b[0;34m\u001b[0m\u001b[0;34m\u001b[0m\u001b[0m\n",
      "\u001b[0;32m~/miniconda3/envs/newenv4/lib/python3.9/site-packages/linna-0.0.3-py3.9.egg/linna/util.py\u001b[0m in \u001b[0;36mgensample_flat\u001b[0;34m(self, Nsamples, omegab2cut)\u001b[0m\n\u001b[1;32m    716\u001b[0m             \u001b[0msamples\u001b[0m\u001b[0;34m*=\u001b[0m\u001b[0;36m2\u001b[0m\u001b[0;34m\u001b[0m\u001b[0;34m\u001b[0m\u001b[0m\n\u001b[1;32m    717\u001b[0m             \u001b[0;32mfor\u001b[0m \u001b[0mind\u001b[0m\u001b[0;34m,\u001b[0m \u001b[0mprior\u001b[0m \u001b[0;32min\u001b[0m \u001b[0menumerate\u001b[0m\u001b[0;34m(\u001b[0m\u001b[0mself\u001b[0m\u001b[0;34m.\u001b[0m\u001b[0mprior_range\u001b[0m\u001b[0;34m)\u001b[0m\u001b[0;34m:\u001b[0m\u001b[0;34m\u001b[0m\u001b[0;34m\u001b[0m\u001b[0m\n\u001b[0;32m--> 718\u001b[0;31m                 \u001b[0;32mif\u001b[0m \u001b[0;34m(\u001b[0m\u001b[0mind\u001b[0m \u001b[0;34m==\u001b[0m\u001b[0;36m1\u001b[0m\u001b[0;34m)\u001b[0m\u001b[0;34m&\u001b[0m\u001b[0;34m(\u001b[0m\u001b[0mself\u001b[0m\u001b[0;34m.\u001b[0m\u001b[0mprior_range\u001b[0m\u001b[0;34m[\u001b[0m\u001b[0;36m1\u001b[0m\u001b[0;34m]\u001b[0m\u001b[0;34m[\u001b[0m\u001b[0;36m1\u001b[0m\u001b[0;34m]\u001b[0m\u001b[0;34m<\u001b[0m\u001b[0;36m1E-5\u001b[0m\u001b[0;34m)\u001b[0m\u001b[0;34m:\u001b[0m\u001b[0;34m\u001b[0m\u001b[0;34m\u001b[0m\u001b[0m\n\u001b[0m\u001b[1;32m    719\u001b[0m                     \u001b[0mprior\u001b[0m \u001b[0;34m=\u001b[0m \u001b[0mnp\u001b[0m\u001b[0;34m.\u001b[0m\u001b[0mlog\u001b[0m\u001b[0;34m(\u001b[0m\u001b[0mprior\u001b[0m\u001b[0;34m)\u001b[0m\u001b[0;34m\u001b[0m\u001b[0;34m\u001b[0m\u001b[0m\n\u001b[1;32m    720\u001b[0m                     \u001b[0mshiftAs\u001b[0m\u001b[0;34m=\u001b[0m\u001b[0;32mTrue\u001b[0m\u001b[0;34m\u001b[0m\u001b[0;34m\u001b[0m\u001b[0m\n",
      "\u001b[0;31mIndexError\u001b[0m: list index out of range"
     ]
    }
   ],
   "source": [
    "gpunode = None\n",
    "chain, logprob = ml_sampler(outdir, theory, priors, means, cov, init, pool, nwalkers, gpunode)"
   ]
  },
  {
   "cell_type": "markdown",
   "id": "84d223a4",
   "metadata": {},
   "source": [
    "# Check the result"
   ]
  },
  {
   "cell_type": "code",
   "execution_count": 58,
   "id": "e1118703",
   "metadata": {},
   "outputs": [
    {
     "name": "stdout",
     "output_type": "stream",
     "text": [
      "(80000, 2)\n",
      "(80000, 2)\n",
      "(79200, 2)\n",
      "(80000, 2)\n"
     ]
    }
   ],
   "source": [
    "import h5py\n",
    "chainall={}\n",
    "for i in [2,3,4,5]:\n",
    "    chain = h5py.File(\"/oak/stanford/orgs/kipac/users/chto/lighthouse/python/nnacc/2dgaussian/iter_{0}/zeus_256.h5\".format(i),'r')\n",
    "    chain = chain['chain_transformed'][:][-10000:,:,:].reshape(-1,2)\n",
    "    chainall[i]=chain\n",
    "    print(chain.shape)"
   ]
  },
  {
   "cell_type": "code",
   "execution_count": 59,
   "id": "5660f6a4",
   "metadata": {},
   "outputs": [
    {
     "ename": "IndexError",
     "evalue": "only integers, slices (`:`), ellipsis (`...`), numpy.newaxis (`None`) and integer or boolean arrays are valid indices",
     "output_type": "error",
     "traceback": [
      "\u001b[0;31m---------------------------------------------------------------------------\u001b[0m",
      "\u001b[0;31mIndexError\u001b[0m                                Traceback (most recent call last)",
      "\u001b[0;32m<ipython-input-59-1ca42f4d9fa5>\u001b[0m in \u001b[0;36m<module>\u001b[0;34m\u001b[0m\n\u001b[0;32m----> 1\u001b[0;31m \u001b[0mchain\u001b[0m\u001b[0;34m[\u001b[0m\u001b[0;34m'chain_transformed'\u001b[0m\u001b[0;34m]\u001b[0m\u001b[0;34m.\u001b[0m\u001b[0mshape\u001b[0m\u001b[0;34m\u001b[0m\u001b[0;34m\u001b[0m\u001b[0m\n\u001b[0m",
      "\u001b[0;31mIndexError\u001b[0m: only integers, slices (`:`), ellipsis (`...`), numpy.newaxis (`None`) and integer or boolean arrays are valid indices"
     ]
    }
   ],
   "source": [
    "chain['chain_transformed'].shape"
   ]
  },
  {
   "cell_type": "code",
   "execution_count": 64,
   "id": "7ca32541",
   "metadata": {},
   "outputs": [],
   "source": [
    "bins = np.linspace(-3,3,20)\n",
    "bins_cent = 0.5*(bins[1:]+bins[:-1])\n",
    "gau = 1/np.sqrt(2*np.pi*1)*np.exp(-1*(bins_cent-0.5)**2/2)"
   ]
  },
  {
   "cell_type": "code",
   "execution_count": 68,
   "id": "93ac79c8",
   "metadata": {},
   "outputs": [
    {
     "data": {
      "text/plain": [
       "Text(0, 0.5, 'P(x)')"
      ]
     },
     "execution_count": 68,
     "metadata": {},
     "output_type": "execute_result"
    },
    {
     "data": {
      "image/png": "[encoded data removed]",
      "text/plain": [
       "<Figure size 720x360 with 1 Axes>"
      ]
     },
     "metadata": {
      "needs_background": "light"
     },
     "output_type": "display_data"
    }
   ],
   "source": [
    "fig = plt.figure(figsize=(10,5))\n",
    "Ntrain=[1000, 1000, 1000, 10000, 100000, 500000]\n",
    "for i in [2,3,4,5]:\n",
    "    chain=chainall[i]\n",
    "    plt.hist((chain[:,1]), density=True, histtype=\"step\", bins=np.linspace(-3,3,20), label=\"N training samples={0}\".format(Ntrain[i]))\n",
    "plt.plot(bins_cent, gau, label=\"true\")\n",
    "plt.legend()\n",
    "plt.xlabel(\"x\")\n",
    "plt.ylabel(\"P(x)\")"
   ]
  },
  {
   "cell_type": "code",
   "execution_count": 40,
   "id": "efd5d2f2",
   "metadata": {},
   "outputs": [],
   "source": [
    "chain_ref =  np.random.multivariate_normal(means, cov, len(chain)) #Reference point"
   ]
  },
  {
   "cell_type": "code",
   "execution_count": 41,
   "id": "379d3c29",
   "metadata": {},
   "outputs": [
    {
     "data": {
      "text/plain": [
       "<matplotlib.lines.Line2D at 0x7fb6da52efd0>"
      ]
     },
     "execution_count": 41,
     "metadata": {},
     "output_type": "execute_result"
    },
    {
     "data": {
      "image/png": "[encoded data removed]",
      "text/plain": [
       "<Figure size 432x288 with 1 Axes>"
      ]
     },
     "metadata": {
      "needs_background": "light"
     },
     "output_type": "display_data"
    }
   ],
   "source": [
    "plt.scatter(chain[:,0], chain[:,1], label=\"gen\",s=2)\n",
    "plt.scatter(chain_ref[:,0], chain_ref[:,1], label=\"ref\", s=2)\n",
    "plt.legend()\n",
    "plt.axvline(means[0], c=\"r\")\n",
    "plt.axhline(means[1], c=\"r\")\n"
   ]
  },
  {
   "cell_type": "code",
   "execution_count": null,
   "id": "b1a99f43",
   "metadata": {},
   "outputs": [],
   "source": []
  },
  {
   "cell_type": "markdown",
   "id": "d1bc1992",
   "metadata": {},
   "source": [
    "# Useful performance check tools"
   ]
  },
  {
   "cell_type": "markdown",
   "id": "8b57d581",
   "metadata": {},
   "source": [
    "The output of linna has the following struture."
   ]
  },
  {
   "cell_type": "code",
   "execution_count": 2,
   "id": "e3c320ea",
   "metadata": {},
   "outputs": [
    {
     "name": "stdout",
     "output_type": "stream",
     "text": [
      "/home/users/chto/code/lighthouse/python/nnacc/nnacc/linna/linna/docs/notebooks/out/2dgaussian/\r\n",
      "├── iter_0\r\n",
      "│   ├── best.pth.tar\r\n",
      "│   ├── finish.pkl\r\n",
      "│   ├── last.pth.tar\r\n",
      "│   ├── lr.npy\r\n",
      "│   ├── lr_tunning.png\r\n",
      "│   ├── model_args.pkl\r\n",
      "│   ├── model_pickle.pkl\r\n",
      "│   ├── train\r\n",
      "│   ├── training_progress.png\r\n",
      "│   ├── trainniing.png\r\n",
      "│   ├── train_samples_x.txt\r\n",
      "│   ├── train_samples_y.npy\r\n",
      "│   ├── val\r\n",
      "│   ├── val_samples_x.txt\r\n",
      "│   ├── val_samples_y.npy\r\n",
      "│   ├── X_transform.pkl\r\n",
      "│   ├── y_invtransform_data.pkl\r\n",
      "│   ├── y_invtransform.pkl\r\n",
      "│   ├── y_transform_data.pkl\r\n",
      "│   ├── y_transform.pkl\r\n",
      "│   └── zeus_256.h5\r\n",
      "├── iter_1\r\n",
      "│   ├── best.pth.tar\r\n",
      "│   ├── finish.pkl\r\n",
      "│   ├── last.pth.tar\r\n",
      "│   ├── lr.npy\r\n",
      "│   ├── lr_tunning.png\r\n",
      "│   ├── model_args.pkl\r\n",
      "│   ├── model_pickle.pkl\r\n",
      "│   ├── train\r\n",
      "│   ├── training_progress.png\r\n",
      "│   ├── trainniing.png\r\n",
      "│   ├── train_samples_x.txt\r\n",
      "│   ├── train_samples_y.npy\r\n",
      "│   ├── val\r\n",
      "│   ├── val_samples_x.txt\r\n",
      "│   ├── val_samples_y.npy\r\n",
      "│   ├── X_transform.pkl\r\n",
      "│   ├── y_invtransform_data.pkl\r\n",
      "│   ├── y_invtransform.pkl\r\n",
      "│   ├── y_transform_data.pkl\r\n",
      "│   ├── y_transform.pkl\r\n",
      "│   └── zeus_256.h5\r\n",
      "├── iter_2\r\n",
      "│   ├── best.pth.tar\r\n",
      "│   ├── finish.pkl\r\n",
      "│   ├── last.pth.tar\r\n",
      "│   ├── lr.npy\r\n",
      "│   ├── lr_tunning.png\r\n",
      "│   ├── model_args.pkl\r\n",
      "│   ├── model_pickle.pkl\r\n",
      "│   ├── train\r\n",
      "│   ├── training_progress.png\r\n",
      "│   ├── trainniing.png\r\n",
      "│   ├── train_samples_x.txt\r\n",
      "│   ├── train_samples_y.npy\r\n",
      "│   ├── val\r\n",
      "│   ├── val_samples_x.txt\r\n",
      "│   ├── val_samples_y.npy\r\n",
      "│   ├── X_transform.pkl\r\n",
      "│   ├── y_invtransform_data.pkl\r\n",
      "│   ├── y_invtransform.pkl\r\n",
      "│   ├── y_transform_data.pkl\r\n",
      "│   ├── y_transform.pkl\r\n",
      "│   └── zeus_256.h5\r\n",
      "└── iter_3\r\n",
      "    ├── best.pth.tar\r\n",
      "    ├── finish.pkl\r\n",
      "    ├── last.pth.tar\r\n",
      "    ├── lr.npy\r\n",
      "    ├── lr_tunning.png\r\n",
      "    ├── model_args.pkl\r\n",
      "    ├── model_pickle.pkl\r\n",
      "    ├── train\r\n",
      "    ├── training_progress.png\r\n",
      "    ├── trainniing.png\r\n",
      "    ├── train_samples_x.txt\r\n",
      "    ├── train_samples_y.npy\r\n",
      "    ├── val\r\n",
      "    ├── val_samples_x.txt\r\n",
      "    ├── val_samples_y.npy\r\n",
      "    ├── X_transform.pkl\r\n",
      "    ├── y_invtransform_data.pkl\r\n",
      "    ├── y_invtransform.pkl\r\n",
      "    ├── y_transform_data.pkl\r\n",
      "    ├── y_transform.pkl\r\n",
      "    └── zeus_256.h5\r\n",
      "\r\n",
      "12 directories, 76 files\r\n"
     ]
    }
   ],
   "source": [
    "path = os.path.abspath(os.getcwd())+\"/out/2dgaussian/\"\n",
    "!tree $path"
   ]
  },
  {
   "cell_type": "markdown",
   "id": "5aa3a5b4",
   "metadata": {},
   "source": [
    "In each iteration, \n",
    "\n",
    "* `training_progress.png`: traning loss and validation loss as a function of training steps. \n",
    "\n",
    "* `last.pth.tar` and `best.pth.tar`: files store the weights of the neural network corresponding to the last step and the step corresponds to the minimal validation loss respectively. \n",
    "\n",
    "* `train_samples_x.txt` and `train_samples_y.npy`: files contain the training points and the corresponding model evaluations at those points. \n",
    "\n",
    "* `val_samples_x.txt` and `val_samples_y.npy`: files contain the validation points and the corresponding model evaluations at those points. \n",
    "\n",
    "* `*transform*.pkl`: corresponds to various transform of the data vector as described in the paper. "
   ]
  },
  {
   "cell_type": "markdown",
   "id": "7780bd0d",
   "metadata": {},
   "source": [
    "Note that if your job crashs at an iteration, LINNA can be restarted from the previous iteration by cleanining the directories corresponding to the crashed iteration and rerunning the code. "
   ]
  },
  {
   "cell_type": "markdown",
   "id": "11d0dd9f",
   "metadata": {},
   "source": [
    "#### To retrieve the model \n",
    "One might wish to use the learned model to perform fast model evaluation. This can be done with the following functions. "
   ]
  },
  {
   "cell_type": "code",
   "execution_count": 3,
   "id": "4ee465d8",
   "metadata": {},
   "outputs": [],
   "source": [
    "model = retrieve_model_wrapper_in(path+\"iter_3/\", no_grad=False)"
   ]
  },
  {
   "cell_type": "code",
   "execution_count": 4,
   "id": "4f48a0ed",
   "metadata": {
    "scrolled": true
   },
   "outputs": [
    {
     "name": "stdout",
     "output_type": "stream",
     "text": [
      "input:tensor([2., 2.], requires_grad=True), model prediction:tensor([[2.0062, 2.0018]], grad_fn=<MulBackward0>)\n"
     ]
    }
   ],
   "source": [
    "indata=torch.from_numpy(np.array([2,2]).astype(np.float32)).clone().requires_grad_()\n",
    "print(\"input:{0}, model prediction:{1}\".format(indata, model(indata)))"
   ]
  },
  {
   "cell_type": "code",
   "execution_count": 7,
   "id": "befb4aa1",
   "metadata": {},
   "outputs": [
    {
     "name": "stdout",
     "output_type": "stream",
     "text": [
      "gradient of model[0] at tensor([2., 2.], requires_grad=True) is (tensor([0.9571, 0.0450]),)\n"
     ]
    }
   ],
   "source": [
    "print(\"gradient of model[0] at {0} is {1}\".format(indata, torch.autograd.grad(model(indata)[0][0],indata)))"
   ]
  }
 ],
 "metadata": {
  "kernelspec": {
   "display_name": "Python 3",
   "language": "python",
   "name": "python3"
  },
  "language_info": {
   "codemirror_mode": {
    "name": "ipython",
    "version": 3
   },
   "file_extension": ".py",
   "mimetype": "text/x-python",
   "name": "python",
   "nbconvert_exporter": "python",
   "pygments_lexer": "ipython3",
   "version": "3.9.7"
  }
 },
 "nbformat": 4,
 "nbformat_minor": 5
}
