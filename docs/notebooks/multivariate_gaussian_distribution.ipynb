{
 "cells": [
  {
   "cell_type": "code",
   "execution_count": 5,
   "id": "59312b31",
   "metadata": {},
   "outputs": [
    {
     "name": "stdout",
     "output_type": "stream",
     "text": [
      "The autoreload extension is already loaded. To reload it, use:\n",
      "  %reload_ext autoreload\n"
     ]
    }
   ],
   "source": [
    "import numpy as np\n",
    "import matplotlib.pyplot as plt \n",
    "from linna.main import ml_sampler\n",
    "from linna.util import *\n",
    "%load_ext autoreload\n",
    "%autoreload 2 \n",
    "%matplotlib inline "
   ]
  },
  {
   "cell_type": "markdown",
   "id": "b54d317e",
   "metadata": {},
   "source": [
    "In this notebook, we sample a 2d gaussian posterior using LINNA. LINNA isn't designed for low dimension posteiors, so the performance will not be great. However, this notebook illustrates how one can use LINNA to sample posteriors. "
   ]
  },
  {
   "cell_type": "markdown",
   "id": "9d2062e7",
   "metadata": {},
   "source": [
    "# Create a multivariate gaussian distribution "
   ]
  },
  {
   "cell_type": "code",
   "execution_count": 6,
   "id": "a1a56fd2",
   "metadata": {},
   "outputs": [],
   "source": [
    "ndim = 2\n",
    "init =  np.random.uniform(size=ndim)\n",
    "#mean value \n",
    "means = np.array([0.1, 1])\n",
    "\n",
    "ndim = len(init)\n",
    "#covariance matrix \n",
    "cov = np.diag([0.5, 0.2])\n",
    "#Prior, Theory, and likelihood\n",
    "\n",
    "priors = []\n",
    "for i in range(ndim):\n",
    "    priors.append({\n",
    "        'param': 'test_{0}'.format(i),\n",
    "        'dist': 'flat',\n",
    "        'arg1': -2.,\n",
    "        'arg2': 2.\n",
    "    })\n",
    "\n",
    "def theory(x, outdirs):\n",
    "    x_new = deepcopy(x[1])\n",
    "    return x_new"
   ]
  },
  {
   "cell_type": "markdown",
   "id": "7923a196",
   "metadata": {},
   "source": [
    "# Perform MCMC sampling using Linna"
   ]
  },
  {
   "cell_type": "code",
   "execution_count": 7,
   "id": "2477fdb0",
   "metadata": {},
   "outputs": [],
   "source": [
    "nwalkers = 4 #Number of mcmc walker\n",
    "pool = None"
   ]
  },
  {
   "cell_type": "code",
   "execution_count": 8,
   "id": "2b07a0d6",
   "metadata": {},
   "outputs": [
    {
     "name": "stdout",
     "output_type": "stream",
     "text": [
      "####################################################################################################\n",
      "iteration: 0\n",
      "####################################################################################################\n",
      "start\n",
      "burnin...\n"
     ]
    },
    {
     "name": "stderr",
     "output_type": "stream",
     "text": [
      "100%|██████████| 100/100 [00:00<00:00, 222.52it/s]"
     ]
    },
    {
     "name": "stdout",
     "output_type": "stream",
     "text": [
      "burnin done...\n"
     ]
    },
    {
     "name": "stderr",
     "output_type": "stream",
     "text": [
      "\n"
     ]
    },
    {
     "name": "stdout",
     "output_type": "stream",
     "text": [
      "[[ 0.67400322 -0.66272713]\n",
      " [-0.45706875 -0.19362674]\n",
      " [-0.6315228  -0.52585594]\n",
      " [-0.78859547 -0.51659101]]\n",
      "max, min tau diff, max tau, ninter: inf, inf, 8.12454057108391, 100\n",
      "\n",
      "max, min tau diff, max tau, ninter: 0.6247168015306888, 0.4915787410187108, 18.170206479690766, 200\n",
      "\n",
      "max, min tau diff, max tau, ninter: 0.29757684381273247, 0.2462534008512003, 24.106518689716466, 300\n",
      "\n",
      "max, min tau diff, max tau, ninter: 0.16947988781700782, 0.015032032369735203, 29.025809653607727, 400\n",
      "\n",
      "max, min tau diff, max tau, ninter: 0.2145718711950485, 0.04272982298288841, 36.955398704361684, 500\n",
      "\n",
      "max, min tau diff, max tau, ninter: 0.17379152551522795, 0.0005086673431900098, 44.72890298953574, 600\n",
      "\n",
      "max, min tau diff, max tau, ninter: 0.011702078283303292, 0.003118763866354937, 44.21153613268596, 700\n",
      "\n",
      "####################################################################################################\n",
      "iteration: 1\n"
     ]
    },
    {
     "name": "stderr",
     "output_type": "stream",
     "text": [
      "WARNING:root:The chain is shorter than 50 times the integrated autocorrelation time for 2 parameter(s). Use this estimate with caution and run a longer chain!\n",
      "N/50 = 14;\n",
      "tau: [21.55065479 44.21153613]\n"
     ]
    },
    {
     "name": "stdout",
     "output_type": "stream",
     "text": [
      "####################################################################################################\n",
      "start\n",
      "burnin...\n"
     ]
    },
    {
     "name": "stderr",
     "output_type": "stream",
     "text": [
      "100%|██████████| 100/100 [00:00<00:00, 223.89it/s]"
     ]
    },
    {
     "name": "stdout",
     "output_type": "stream",
     "text": [
      "burnin done...\n"
     ]
    },
    {
     "name": "stderr",
     "output_type": "stream",
     "text": [
      "\n"
     ]
    },
    {
     "name": "stdout",
     "output_type": "stream",
     "text": [
      "[[-0.03372039  0.19968328]\n",
      " [ 0.12804397  0.43701299]\n",
      " [ 0.00379292  0.46989693]\n",
      " [ 0.23119309  0.10015281]]\n",
      "max, min tau diff, max tau, ninter: inf, inf, 8.895511884700118, 100\n",
      "\n",
      "max, min tau diff, max tau, ninter: 0.5787833834866871, 0.5724010577857943, 21.118615780958795, 200\n",
      "\n",
      "max, min tau diff, max tau, ninter: 0.19661277102632954, 0.160769580127123, 25.16426392665527, 300\n",
      "\n",
      "max, min tau diff, max tau, ninter: 0.3116227327514564, 0.001953481562395995, 28.38024894342818, 400\n",
      "\n",
      "max, min tau diff, max tau, ninter: 0.07928355304935868, 0.0013955683927294213, 28.340697561683193, 500\n",
      "\n",
      "max, min tau diff, max tau, ninter: 0.17030449651747845, 0.05982064261799267, 34.15795004640545, 600\n",
      "\n",
      "max, min tau diff, max tau, ninter: 0.18236394469320608, 0.054606898981841706, 35.62351754936873, 700\n",
      "\n",
      "max, min tau diff, max tau, ninter: 0.13706447575656575, 0.045145526467427324, 41.28178357311354, 800\n",
      "\n",
      "max, min tau diff, max tau, ninter: 0.1049540270977723, 0.09268522811435183, 37.78012414824493, 900\n",
      "\n",
      "max, min tau diff, max tau, ninter: 0.14887611321491354, 0.03535357941832819, 40.6805019522319, 1000\n",
      "\n",
      "max, min tau diff, max tau, ninter: 0.06171858668206967, 0.0026087369343402757, 43.35639753150219, 1100\n",
      "\n",
      "max, min tau diff, max tau, ninter: 0.10799508655912046, 0.007334632884916028, 48.605559093005795, 1200\n",
      "\n",
      "max, min tau diff, max tau, ninter: 0.04195023641860197, 0.020861458033441322, 46.648637712366316, 1300\n",
      "\n",
      "max, min tau diff, max tau, ninter: 0.020556929814010583, 0.013231557420713021, 46.039463902126485, 1400\n",
      "\n",
      "####################################################################################################\n",
      "iteration: 2\n"
     ]
    },
    {
     "name": "stderr",
     "output_type": "stream",
     "text": [
      "WARNING:root:The chain is shorter than 50 times the integrated autocorrelation time for 2 parameter(s). Use this estimate with caution and run a longer chain!\n",
      "N/50 = 28;\n",
      "tau: [35.37546996 46.0394639 ]\n"
     ]
    },
    {
     "name": "stdout",
     "output_type": "stream",
     "text": [
      "####################################################################################################\n",
      "start\n",
      "burnin...\n"
     ]
    },
    {
     "name": "stderr",
     "output_type": "stream",
     "text": [
      "100%|██████████| 100/100 [00:00<00:00, 221.10it/s]"
     ]
    },
    {
     "name": "stdout",
     "output_type": "stream",
     "text": [
      "burnin done...\n"
     ]
    },
    {
     "name": "stderr",
     "output_type": "stream",
     "text": [
      "\n"
     ]
    },
    {
     "name": "stdout",
     "output_type": "stream",
     "text": [
      "[[0.1469467  0.6543779 ]\n",
      " [0.25294498 0.64201567]\n",
      " [0.22999742 0.44282867]\n",
      " [0.09647445 0.6164354 ]]\n",
      "max, min tau diff, max tau, ninter: inf, inf, 8.65362188902167, 100\n",
      "\n",
      "max, min tau diff, max tau, ninter: 0.5570959580328358, 0.43711192979889724, 15.847652562375625, 200\n",
      "\n",
      "max, min tau diff, max tau, ninter: 0.4427632950924713, 0.31250816087665256, 27.589012465845585, 300\n",
      "\n",
      "max, min tau diff, max tau, ninter: 0.1330074027089035, 0.02995044144472065, 31.82150868651818, 400\n",
      "\n",
      "max, min tau diff, max tau, ninter: 0.024162262111682972, 0.024061172789070405, 31.07383575519328, 500\n",
      "\n",
      "max, min tau diff, max tau, ninter: 0.289575790102064, 0.08826340468482259, 34.082031932097, 600\n",
      "\n",
      "max, min tau diff, max tau, ninter: 0.2701719898234958, 0.08392994205088486, 42.14771325839893, 700\n",
      "\n",
      "max, min tau diff, max tau, ninter: 0.038647743760432576, 0.020669603776380625, 40.57941059574519, 800\n",
      "\n",
      "max, min tau diff, max tau, ninter: 0.07772949620969379, 0.06847704858902796, 37.652686261682916, 900\n",
      "\n",
      "max, min tau diff, max tau, ninter: 0.06280987178823608, 0.06093573925862336, 40.176144763205464, 1000\n",
      "\n",
      "max, min tau diff, max tau, ninter: 0.19263245897502795, 0.022120978420610764, 36.01347946156377, 1100\n",
      "\n",
      "max, min tau diff, max tau, ninter: 0.058269110387824875, 0.055165336150884245, 35.653799427914116, 1200\n",
      "\n",
      "max, min tau diff, max tau, ninter: 0.0937506584442695, 0.008622741014623724, 33.739621590882834, 1300\n",
      "\n",
      "max, min tau diff, max tau, ninter: 0.043237354973695075, 0.023987191099299438, 32.34127059391347, 1400\n",
      "\n",
      "max, min tau diff, max tau, ninter: 0.03227643685632985, 0.02939657030383575, 33.3207874652138, 1500\n",
      "\n",
      "max, min tau diff, max tau, ninter: 0.06234155178240248, 0.01830269392365389, 32.30462893070708, 1600\n",
      "\n",
      "max, min tau diff, max tau, ninter: 0.04932241739540633, 0.03569596347421432, 31.19122799546507, 1700\n",
      "\n",
      "max, min tau diff, max tau, ninter: 0.06981212018417737, 0.029841554611170017, 33.53218061886695, 1800\n",
      "\n",
      "max, min tau diff, max tau, ninter: 0.10314582627163978, 0.0065356361270590005, 37.3886654052894, 1900\n",
      "\n",
      "max, min tau diff, max tau, ninter: 0.10635078632266609, 0.011265885012548363, 41.838189787507794, 2000\n",
      "\n",
      "max, min tau diff, max tau, ninter: 0.07962413041957209, 0.00012208747083182326, 38.752551567412915, 2100\n",
      "\n",
      "max, min tau diff, max tau, ninter: 0.04863920347845443, 0.009584121500262912, 36.9550856375256, 2200\n",
      "\n",
      "max, min tau diff, max tau, ninter: 0.023822216283716318, 0.00219819525695071, 36.09521755804994, 2300\n",
      "\n",
      "max, min tau diff, max tau, ninter: 0.03699020524115261, 0.018039663277150803, 34.80767453310321, 2400\n",
      "\n",
      "max, min tau diff, max tau, ninter: 0.03804934049627498, 0.024921107649954522, 33.96132080147501, 2500\n",
      "\n",
      "max, min tau diff, max tau, ninter: 0.017208402379064555, 0.014179223348743905, 33.386787527556486, 2600\n",
      "\n",
      "####################################################################################################\n",
      "iteration: 3\n",
      "####################################################################################################\n",
      "start\n",
      "burnin...\n"
     ]
    },
    {
     "name": "stderr",
     "output_type": "stream",
     "text": [
      "100%|██████████| 100/100 [00:00<00:00, 223.06it/s]"
     ]
    },
    {
     "name": "stdout",
     "output_type": "stream",
     "text": [
      "burnin done...\n"
     ]
    },
    {
     "name": "stderr",
     "output_type": "stream",
     "text": [
      "\n"
     ]
    },
    {
     "name": "stdout",
     "output_type": "stream",
     "text": [
      "[[-0.0018339   0.3336489 ]\n",
      " [ 0.46680021  0.55956727]\n",
      " [ 0.66283812  0.62542054]\n",
      " [ 0.37640155  0.38937137]]\n",
      "max, min tau diff, max tau, ninter: inf, inf, 9.642290286201066, 100\n",
      "\n",
      "max, min tau diff, max tau, ninter: 0.6556908084681504, 0.43846350990246813, 19.846902770102954, 200\n",
      "\n",
      "max, min tau diff, max tau, ninter: 0.09757162961572277, 0.022254578916200717, 21.992773522458776, 300\n",
      "\n",
      "max, min tau diff, max tau, ninter: 0.10146722717048666, 0.04470725827262336, 19.96679790369714, 400\n",
      "\n",
      "max, min tau diff, max tau, ninter: 0.12742661404852282, 0.0551611115714053, 21.13248951565155, 500\n",
      "\n",
      "max, min tau diff, max tau, ninter: 0.18618219594895638, 0.0720465137078733, 25.967101494287405, 600\n",
      "\n",
      "max, min tau diff, max tau, ninter: 0.180626582411449, 0.1570403796725442, 24.629005421252845, 700\n",
      "\n",
      "max, min tau diff, max tau, ninter: 0.1424220879485656, 0.04817898695082614, 28.719262792504953, 800\n",
      "\n",
      "max, min tau diff, max tau, ninter: 0.0580446373394335, 0.02406399982620519, 29.427403833233555, 900\n",
      "\n",
      "max, min tau diff, max tau, ninter: 0.1182108139298844, 0.027635163281217564, 28.636042133155964, 1000\n",
      "\n",
      "max, min tau diff, max tau, ninter: 0.13708874443677546, 0.012296224618955728, 28.70256684541204, 1100\n",
      "\n",
      "max, min tau diff, max tau, ninter: 0.012147801432285594, 0.00016969485010701751, 28.35807853832728, 1200\n",
      "\n",
      "max, min tau diff, max tau, ninter: 0.07691376830071801, 0.0020072906918145767, 30.72094194940351, 1300\n",
      "\n",
      "max, min tau diff, max tau, ninter: 0.08721362460167455, 0.027333453840061517, 29.903573990092454, 1400\n",
      "\n",
      "max, min tau diff, max tau, ninter: 0.06692757300347842, 0.031314399747421826, 30.8702575761375, 1500\n",
      "\n",
      "max, min tau diff, max tau, ninter: 0.053202370277012016, 0.022823704358594675, 31.59128778893954, 1600\n",
      "\n",
      "max, min tau diff, max tau, ninter: 0.022694421492097286, 0.00539863791415925, 31.762763447948103, 1700\n",
      "\n",
      "max, min tau diff, max tau, ninter: 0.07618109448304691, 0.038959851581018536, 34.382023639334605, 1800\n",
      "\n",
      "max, min tau diff, max tau, ninter: 0.07114303849066343, 0.05004162691226408, 36.19318973691404, 1900\n",
      "\n",
      "max, min tau diff, max tau, ninter: 0.021970552824473005, 0.021054181049570738, 36.97159642166749, 2000\n",
      "\n",
      "max, min tau diff, max tau, ninter: 0.027286438537640862, 0.0171471262894343, 35.98956925226928, 2100\n",
      "\n",
      "max, min tau diff, max tau, ninter: 0.07195623868247002, 0.04967055227604757, 36.24258363382972, 2200\n",
      "\n",
      "max, min tau diff, max tau, ninter: 0.04739740024580037, 0.009328871267571849, 34.602514408880914, 2300\n",
      "\n",
      "max, min tau diff, max tau, ninter: 0.017756410023732183, 0.016641736023084264, 35.18810557297885, 2400\n",
      "\n",
      "max, min tau diff, max tau, ninter: 0.04163175583142856, 0.017500527348003735, 36.71668566554618, 2500\n",
      "\n",
      "max, min tau diff, max tau, ninter: 0.05812953973688947, 0.006104721189912703, 38.982734053777854, 2600\n",
      "\n",
      "max, min tau diff, max tau, ninter: 0.05406242253656717, 0.034322778757201286, 40.36828579596006, 2700\n",
      "\n",
      "max, min tau diff, max tau, ninter: 0.032147450153413706, 0.02031256677870946, 41.20527060679539, 2800\n",
      "\n",
      "max, min tau diff, max tau, ninter: 0.02480577572873632, 0.015768961246966605, 40.20788288150937, 2900\n",
      "\n",
      "max, min tau diff, max tau, ninter: 0.023401553531314727, 0.0020474930215259447, 40.290377147553635, 3000\n",
      "\n",
      "max, min tau diff, max tau, ninter: 0.021277189633834043, 0.019747594387444247, 41.166279891320755, 3100\n",
      "\n",
      "max, min tau diff, max tau, ninter: 0.014150877659565585, 0.008954351016171643, 40.591869314675705, 3200\n",
      "\n",
      "max, min tau diff, max tau, ninter: 0.011297526176508957, 0.0003350658340722027, 40.57827292181395, 3300\n",
      "\n",
      "max, min tau diff, max tau, ninter: 0.032006127587039385, 0.009383666074640454, 41.91996879139608, 3400\n",
      "\n",
      "max, min tau diff, max tau, ninter: 0.02389970551026056, 0.014710930848119119, 42.545857965804935, 3500\n",
      "\n",
      "max, min tau diff, max tau, ninter: 0.028265883278973804, 0.023553154025896705, 41.376319741478795, 3600\n",
      "\n",
      "max, min tau diff, max tau, ninter: 0.004345084914229555, 0.002432984412990143, 41.197313914283065, 3700\n",
      "\n"
     ]
    }
   ],
   "source": [
    "outdir = os.path.abspath(os.getcwd())+\"/out/2dgaussian/\"\n",
    "gpunode = None\n",
    "chain, logprob = ml_sampler(outdir, theory, priors, means, cov, init, pool, nwalkers, gpunode, nepoch=101)"
   ]
  },
  {
   "cell_type": "markdown",
   "id": "d38e20c0",
   "metadata": {},
   "source": [
    "# Check the result"
   ]
  },
  {
   "cell_type": "code",
   "execution_count": 11,
   "id": "22cf1eb8",
   "metadata": {},
   "outputs": [],
   "source": [
    "chain_ref =  np.random.multivariate_normal(means, cov, len(chain)) #Reference point"
   ]
  },
  {
   "cell_type": "code",
   "execution_count": 12,
   "id": "6d0bc91d",
   "metadata": {},
   "outputs": [
    {
     "data": {
      "text/plain": [
       "(-2.0, 2.0)"
      ]
     },
     "execution_count": 12,
     "metadata": {},
     "output_type": "execute_result"
    },
    {
     "data": {
      "image/png": "[encoded data removed]",
      "text/plain": [
       "<Figure size 432x288 with 1 Axes>"
      ]
     },
     "metadata": {
      "needs_background": "light"
     },
     "output_type": "display_data"
    }
   ],
   "source": [
    "plt.scatter(chain[:,0], chain[:,1], label=\"gen\",s=2)\n",
    "plt.scatter(chain_ref[:,0], chain_ref[:,1], label=\"ref\", s=2)\n",
    "plt.legend()\n",
    "plt.axvline(means[0], c=\"r\")\n",
    "plt.axhline(means[1], c=\"r\")\n",
    "plt.xlim(-2,2)\n",
    "plt.ylim(-2,2)"
   ]
  },
  {
   "cell_type": "code",
   "execution_count": null,
   "id": "6b4293e5",
   "metadata": {},
   "outputs": [],
   "source": []
  }
 ],
 "metadata": {
  "kernelspec": {
   "display_name": "Python 3",
   "language": "python",
   "name": "python3"
  },
  "language_info": {
   "codemirror_mode": {
    "name": "ipython",
    "version": 3
   },
   "file_extension": ".py",
   "mimetype": "text/x-python",
   "name": "python",
   "nbconvert_exporter": "python",
   "pygments_lexer": "ipython3",
   "version": "3.9.7"
  }
 },
 "nbformat": 4,
 "nbformat_minor": 5
}
