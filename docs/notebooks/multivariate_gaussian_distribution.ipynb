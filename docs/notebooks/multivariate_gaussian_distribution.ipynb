{
 "cells": [
  {
   "cell_type": "code",
   "execution_count": 1,
   "id": "ce540a6f",
   "metadata": {},
   "outputs": [],
   "source": [
    "import numpy as np\n",
    "import matplotlib.pyplot as plt \n",
    "from linna.main import ml_sampler\n",
    "from linna.util import *\n",
    "%load_ext autoreload\n",
    "%autoreload 2 \n",
    "%matplotlib inline "
   ]
  },
  {
   "cell_type": "markdown",
   "id": "bfec30f2",
   "metadata": {},
   "source": [
    "In this notebook, we sample a 2d gaussian posterior using LINNA. LINNA isn't designed for low dimension posteiors, so the performance will not be great. However, this notebook illustrates how one can use LINNA to sample posteriors. "
   ]
  },
  {
   "cell_type": "markdown",
   "id": "18bd5a5c",
   "metadata": {},
   "source": [
    "# Create a multivariate gaussian distribution "
   ]
  },
  {
   "cell_type": "code",
   "execution_count": 2,
   "id": "f83b3801",
   "metadata": {},
   "outputs": [],
   "source": [
    "ndim = 2\n",
    "init =  np.random.uniform(size=ndim)\n",
    "#mean value \n",
    "means = np.array([0.1, 1])\n",
    "\n",
    "ndim = len(init)\n",
    "#covariance matrix \n",
    "cov = np.diag([0.5, 0.2])\n",
    "#Prior, Theory, and likelihood\n",
    "\n",
    "priors = []\n",
    "for i in range(ndim):\n",
    "    priors.append({\n",
    "        'param': 'test_{0}'.format(i),\n",
    "        'dist': 'flat',\n",
    "        'arg1': -2.,\n",
    "        'arg2': 2.\n",
    "    })\n",
    "\n",
    "def theory(x, outdirs):\n",
    "    x_new = deepcopy(x[1])\n",
    "    return x_new"
   ]
  },
  {
   "cell_type": "markdown",
   "id": "b4f2ca69",
   "metadata": {},
   "source": [
    "# Perform MCMC sampling using Linna"
   ]
  },
  {
   "cell_type": "code",
   "execution_count": 3,
   "id": "0a7d639c",
   "metadata": {},
   "outputs": [],
   "source": [
    "nwalkers = 4 #Number of mcmc walker\n",
    "pool = None"
   ]
  },
  {
   "cell_type": "code",
   "execution_count": 4,
   "id": "812714ee",
   "metadata": {},
   "outputs": [
    {
     "name": "stdout",
     "output_type": "stream",
     "text": [
      "####################################################################################################\n",
      "iteration: 0\n",
      "####################################################################################################\n",
      "####################################################################################################\n",
      "iteration: 1\n"
     ]
    },
    {
     "name": "stderr",
     "output_type": "stream",
     "text": [
      "Initialising ensemble of 4 walkers...\n"
     ]
    },
    {
     "name": "stdout",
     "output_type": "stream",
     "text": [
      "####################################################################################################\n"
     ]
    },
    {
     "name": "stderr",
     "output_type": "stream",
     "text": [
      "Sampling progress :   0%|          | 900/1000000 [00:26<8:17:07, 33.50it/s] "
     ]
    },
    {
     "name": "stdout",
     "output_type": "stream",
     "text": [
      "####################################################################################################\n",
      "iteration: 2\n"
     ]
    },
    {
     "name": "stderr",
     "output_type": "stream",
     "text": [
      "\n",
      "Initialising ensemble of 4 walkers...\n"
     ]
    },
    {
     "name": "stdout",
     "output_type": "stream",
     "text": [
      "####################################################################################################\n"
     ]
    },
    {
     "name": "stderr",
     "output_type": "stream",
     "text": [
      "Sampling progress :   0%|          | 1200/1000000 [00:36<8:21:16, 33.21it/s]"
     ]
    },
    {
     "name": "stdout",
     "output_type": "stream",
     "text": [
      "####################################################################################################\n",
      "iteration: 3\n"
     ]
    },
    {
     "name": "stderr",
     "output_type": "stream",
     "text": [
      "\n",
      "Initialising ensemble of 4 walkers...\n"
     ]
    },
    {
     "name": "stdout",
     "output_type": "stream",
     "text": [
      "####################################################################################################\n"
     ]
    },
    {
     "name": "stderr",
     "output_type": "stream",
     "text": [
      "Sampling progress :   0%|          | 4400/1000000 [02:13<8:22:26, 33.03it/s] \n"
     ]
    }
   ],
   "source": [
    "outdir = os.path.abspath(os.getcwd())+\"/out/2dgaussian/\"\n",
    "gpunode = None\n",
    "chain, logprob = ml_sampler(outdir, theory, priors, means, cov, init, pool, nwalkers, gpunode, nepoch=101)"
   ]
  },
  {
   "cell_type": "code",
   "execution_count": 9,
   "id": "65306ae7",
   "metadata": {},
   "outputs": [
    {
     "data": {
      "text/plain": [
       "76"
      ]
     },
     "execution_count": 9,
     "metadata": {},
     "output_type": "execute_result"
    }
   ],
   "source": [
    "len(chain)"
   ]
  },
  {
   "cell_type": "markdown",
   "id": "17e7d85d",
   "metadata": {},
   "source": [
    "# Check the result"
   ]
  },
  {
   "cell_type": "code",
   "execution_count": 7,
   "id": "12c6419e",
   "metadata": {},
   "outputs": [],
   "source": [
    "chain_ref =  np.random.multivariate_normal(means, cov, len(chain)) #Reference point"
   ]
  },
  {
   "cell_type": "code",
   "execution_count": 8,
   "id": "6c4a6a23",
   "metadata": {},
   "outputs": [
    {
     "data": {
      "text/plain": [
       "(-2.0, 2.0)"
      ]
     },
     "execution_count": 8,
     "metadata": {},
     "output_type": "execute_result"
    },
    {
     "data": {
      "image/png": "[encoded data removed]",
      "text/plain": [
       "<Figure size 432x288 with 1 Axes>"
      ]
     },
     "metadata": {
      "needs_background": "light"
     },
     "output_type": "display_data"
    }
   ],
   "source": [
    "plt.scatter(chain[:,0], chain[:,1], label=\"gen\",s=2)\n",
    "plt.scatter(chain_ref[:,0], chain_ref[:,1], label=\"ref\", s=2)\n",
    "plt.legend()\n",
    "plt.axvline(means[0], c=\"r\")\n",
    "plt.axhline(means[1], c=\"r\")\n",
    "plt.xlim(-2,2)\n",
    "plt.ylim(-2,2)"
   ]
  },
  {
   "cell_type": "code",
   "execution_count": null,
   "id": "bafe220c",
   "metadata": {},
   "outputs": [],
   "source": []
  }
 ],
 "metadata": {
  "kernelspec": {
   "display_name": "Python 3",
   "language": "python",
   "name": "python3"
  },
  "language_info": {
   "codemirror_mode": {
    "name": "ipython",
    "version": 3
   },
   "file_extension": ".py",
   "mimetype": "text/x-python",
   "name": "python",
   "nbconvert_exporter": "python",
   "pygments_lexer": "ipython3",
   "version": "3.9.7"
  }
 },
 "nbformat": 4,
 "nbformat_minor": 5
}
