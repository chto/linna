{
 "cells": [
  {
   "cell_type": "code",
   "execution_count": 2,
   "id": "f069d4a6",
   "metadata": {},
   "outputs": [],
   "source": [
    "import numpy as np\n",
    "import matplotlib.pyplot as plt \n",
    "from linna.main import ml_sampler\n",
    "from linna.util import *\n",
    "%load_ext autoreload\n",
    "%autoreload 2 \n",
    "%matplotlib inline "
   ]
  },
  {
   "cell_type": "markdown",
   "id": "9dad3221",
   "metadata": {},
   "source": [
    "In this notebook, we sample a 2d gaussian posterior using LINNA. LINNA isn't designed for low dimension posteiors, so the performance will not be great. However, this notebook illustrates how one can use LINNA to sample posteriors. "
   ]
  },
  {
   "cell_type": "markdown",
   "id": "53f191ee",
   "metadata": {},
   "source": [
    "# Create a multivariate gaussian distribution "
   ]
  },
  {
   "cell_type": "code",
   "execution_count": 3,
   "id": "d18bd713",
   "metadata": {},
   "outputs": [],
   "source": [
    "ndim = 2\n",
    "init =  np.random.uniform(size=ndim)\n",
    "#mean value \n",
    "means = np.array([0.1, 1])\n",
    "\n",
    "ndim = len(init)\n",
    "#covariance matrix \n",
    "cov = np.diag([0.5, 0.2])\n",
    "#Prior, Theory, and likelihood\n",
    "\n",
    "priors = []\n",
    "for i in range(ndim):\n",
    "    priors.append({\n",
    "        'param': 'test_{0}'.format(i),\n",
    "        'dist': 'flat',\n",
    "        'arg1': -2,\n",
    "        'arg2':2\n",
    "    })\n",
    "\n",
    "def theory(x, outdirs):\n",
    "    x_new = deepcopy(x[1])\n",
    "    return x_new"
   ]
  },
  {
   "cell_type": "markdown",
   "id": "2ea45171",
   "metadata": {},
   "source": [
    "# Perform MCMC sampling using Linna"
   ]
  },
  {
   "cell_type": "code",
   "execution_count": 4,
   "id": "c698ad46",
   "metadata": {},
   "outputs": [],
   "source": [
    "nwalkers = 4 #Number of mcmc walker\n",
    "pool = None"
   ]
  },
  {
   "cell_type": "code",
   "execution_count": 6,
   "id": "526c623c",
   "metadata": {},
   "outputs": [
    {
     "name": "stdout",
     "output_type": "stream",
     "text": [
      "####################################################################################################\n",
      "iteration: 0\n",
      "####################################################################################################\n"
     ]
    },
    {
     "name": "stderr",
     "output_type": "stream",
     "text": [
      "Initialising ensemble of 4 walkers...\n",
      "Sampling progress :   0%|          | 500/1000000 [00:15<8:23:47, 33.07it/s]"
     ]
    },
    {
     "name": "stdout",
     "output_type": "stream",
     "text": [
      "####################################################################################################\n",
      "iteration: 1\n"
     ]
    },
    {
     "name": "stderr",
     "output_type": "stream",
     "text": [
      "\n"
     ]
    },
    {
     "name": "stdout",
     "output_type": "stream",
     "text": [
      "####################################################################################################\n"
     ]
    },
    {
     "name": "stderr",
     "output_type": "stream",
     "text": [
      "Initialising ensemble of 4 walkers...\n",
      "Sampling progress :   0%|          | 1200/1000000 [00:35<8:17:10, 33.48it/s] "
     ]
    },
    {
     "name": "stdout",
     "output_type": "stream",
     "text": [
      "####################################################################################################\n",
      "iteration: 2\n"
     ]
    },
    {
     "name": "stderr",
     "output_type": "stream",
     "text": [
      "\n"
     ]
    },
    {
     "name": "stdout",
     "output_type": "stream",
     "text": [
      "####################################################################################################\n"
     ]
    },
    {
     "name": "stderr",
     "output_type": "stream",
     "text": [
      "Initialising ensemble of 4 walkers...\n",
      "Sampling progress :   0%|          | 3500/1000000 [01:40<7:56:02, 34.89it/s] "
     ]
    },
    {
     "name": "stdout",
     "output_type": "stream",
     "text": [
      "####################################################################################################\n",
      "iteration: 3\n"
     ]
    },
    {
     "name": "stderr",
     "output_type": "stream",
     "text": [
      "\n"
     ]
    },
    {
     "name": "stdout",
     "output_type": "stream",
     "text": [
      "####################################################################################################\n"
     ]
    },
    {
     "name": "stderr",
     "output_type": "stream",
     "text": [
      "Initialising ensemble of 4 walkers...\n",
      "Sampling progress :   0%|          | 1900/1000000 [00:54<7:53:08, 35.16it/s]\n"
     ]
    }
   ],
   "source": [
    "outdir = os.path.abspath(os.getcwd())+\"/out/2dgaussian/\"\n",
    "gpunode = None\n",
    "chain, logprob = ml_sampler(outdir, theory, priors, means, cov, init, pool, nwalkers, gpunode, nepoch=101)"
   ]
  },
  {
   "cell_type": "markdown",
   "id": "8a34dfb6",
   "metadata": {},
   "source": [
    "# Check the result"
   ]
  },
  {
   "cell_type": "code",
   "execution_count": 7,
   "id": "5f2c21a5",
   "metadata": {},
   "outputs": [],
   "source": [
    "chain_ref =  np.random.multivariate_normal(means, cov, len(chain)) #Reference point"
   ]
  },
  {
   "cell_type": "code",
   "execution_count": 8,
   "id": "641dd79b",
   "metadata": {},
   "outputs": [
    {
     "data": {
      "text/plain": [
       "<matplotlib.lines.Line2D at 0x7f04c2473880>"
      ]
     },
     "execution_count": 8,
     "metadata": {},
     "output_type": "execute_result"
    },
    {
     "data": {
      "image/png": "[encoded data removed]",
      "text/plain": [
       "<Figure size 432x288 with 1 Axes>"
      ]
     },
     "metadata": {
      "needs_background": "light"
     },
     "output_type": "display_data"
    }
   ],
   "source": [
    "plt.scatter(chain[:,0], chain[:,1], label=\"gen\",s=2)\n",
    "plt.scatter(chain_ref[:,0], chain_ref[:,1], label=\"ref\", s=2)\n",
    "plt.legend()\n",
    "plt.axvline(means[0], c=\"r\")\n",
    "plt.axhline(means[1], c=\"r\")\n"
   ]
  },
  {
   "cell_type": "markdown",
   "id": "5518275f",
   "metadata": {},
   "source": [
    "# Useful performance check tools"
   ]
  },
  {
   "cell_type": "markdown",
   "id": "a42bd806",
   "metadata": {},
   "source": [
    "The output of linna has the following struture."
   ]
  },
  {
   "cell_type": "code",
   "execution_count": 3,
   "id": "95e2bab4",
   "metadata": {},
   "outputs": [
    {
     "name": "stdout",
     "output_type": "stream",
     "text": [
      "/home/users/chto/code/lighthouse/python/nnacc/nnacc/linna/linna/docs/notebooks/out/2dgaussian/\n",
      "├── iter_0\n",
      "│   ├── best.pth.tar\n",
      "│   ├── finish.pkl\n",
      "│   ├── last.pth.tar\n",
      "│   ├── lr.npy\n",
      "│   ├── lr_tunning.png\n",
      "│   ├── model_args.pkl\n",
      "│   ├── model_pickle.pkl\n",
      "│   ├── train\n",
      "│   ├── training_progress.png\n",
      "│   ├── trainniing.png\n",
      "│   ├── train_samples_x.txt\n",
      "│   ├── train_samples_y.npy\n",
      "│   ├── val\n",
      "│   ├── val_samples_x.txt\n",
      "│   ├── val_samples_y.npy\n",
      "│   ├── X_transform.pkl\n",
      "│   ├── y_invtransform_data.pkl\n",
      "│   ├── y_invtransform.pkl\n",
      "│   ├── y_transform_data.pkl\n",
      "│   ├── y_transform.pkl\n",
      "│   └── zeus_256.h5\n",
      "├── iter_1\n",
      "│   ├── best.pth.tar\n",
      "│   ├── finish.pkl\n",
      "│   ├── last.pth.tar\n",
      "│   ├── lr.npy\n",
      "│   ├── lr_tunning.png\n",
      "│   ├── model_args.pkl\n",
      "│   ├── model_pickle.pkl\n",
      "│   ├── train\n",
      "│   ├── training_progress.png\n",
      "│   ├── trainniing.png\n",
      "│   ├── train_samples_x.txt\n",
      "│   ├── train_samples_y.npy\n",
      "│   ├── val\n",
      "│   ├── val_samples_x.txt\n",
      "│   ├── val_samples_y.npy\n",
      "│   ├── X_transform.pkl\n",
      "│   ├── y_invtransform_data.pkl\n",
      "│   ├── y_invtransform.pkl\n",
      "│   ├── y_transform_data.pkl\n",
      "│   ├── y_transform.pkl\n",
      "│   └── zeus_256.h5\n",
      "├── iter_2\n",
      "│   ├── best.pth.tar\n",
      "│   ├── finish.pkl\n",
      "│   ├── last.pth.tar\n",
      "│   ├── lr.npy\n",
      "│   ├── lr_tunning.png\n",
      "│   ├── model_args.pkl\n",
      "│   ├── model_pickle.pkl\n",
      "│   ├── train\n",
      "│   ├── training_progress.png\n",
      "│   ├── trainniing.png\n",
      "│   ├── train_samples_x.txt\n",
      "│   ├── train_samples_y.npy\n",
      "│   ├── val\n",
      "│   ├── val_samples_x.txt\n",
      "│   ├── val_samples_y.npy\n",
      "│   ├── X_transform.pkl\n",
      "│   ├── y_invtransform_data.pkl\n",
      "│   ├── y_invtransform.pkl\n",
      "│   ├── y_transform_data.pkl\n",
      "│   ├── y_transform.pkl\n",
      "│   └── zeus_256.h5\n",
      "└── iter_3\n",
      "    ├── best.pth.tar\n",
      "    ├── finish.pkl\n",
      "    ├── last.pth.tar\n",
      "    ├── lr.npy\n",
      "    ├── lr_tunning.png\n",
      "    ├── model_args.pkl\n",
      "    ├── model_pickle.pkl\n",
      "    ├── train\n",
      "    ├── training_progress.png\n",
      "    ├── trainniing.png\n",
      "    ├── train_samples_x.txt\n",
      "    ├── train_samples_y.npy\n",
      "    ├── val\n",
      "    ├── val_samples_x.txt\n",
      "    ├── val_samples_y.npy\n",
      "    ├── X_transform.pkl\n",
      "    ├── y_invtransform_data.pkl\n",
      "    ├── y_invtransform.pkl\n",
      "    ├── y_transform_data.pkl\n",
      "    ├── y_transform.pkl\n",
      "    └── zeus_256.h5\n",
      "\n",
      "12 directories, 76 files\n"
     ]
    }
   ],
   "source": [
    "path = os.path.abspath(os.getcwd())+\"/out/2dgaussian/\"\n",
    "!tree $path"
   ]
  },
  {
   "cell_type": "markdown",
   "id": "1443f19b",
   "metadata": {},
   "source": [
    "In each iteration, \n",
    "- `training_progress.png`: traning loss and validation loss as a function of training steps. \n",
    "- `last.pth.tar` and `best.pth.tar`: files store the weights of the neural network corresponding to the last step and the step corresponds to the minimal validation loss respectively. \n",
    "- `train_samples_x.txt` and `train_samples_y.npy`: files contain the training points and the corresponding model evaluations at those points. \n",
    "- `val_samples_x.txt` and `val_samples_y.npy`: files contain the validation points and the corresponding model evaluations at those points. \n",
    "- `*transform*.pkl`: corresponds to various transform of the data vector as described in the paper. "
   ]
  },
  {
   "cell_type": "markdown",
   "id": "a4e46345",
   "metadata": {},
   "source": [
    "Note that if your job crashs at an iteration, LINNA can be restarted from the previous iteration by cleanining the directories corresponding to the crashed iteration and rerunning the code. "
   ]
  },
  {
   "cell_type": "code",
   "execution_count": 4,
   "id": "478b450f",
   "metadata": {},
   "outputs": [],
   "source": [
    "model = retrieve_model_wrapper(path+\"iter_3/\")"
   ]
  },
  {
   "cell_type": "code",
   "execution_count": 10,
   "id": "954413e2",
   "metadata": {},
   "outputs": [
    {
     "name": "stdout",
     "output_type": "stream",
     "text": [
      "input:[2 2], model prediction:tensor([[2.0093, 1.9974]], grad_fn=<MulBackward0>)\n"
     ]
    }
   ],
   "source": [
    "indata=np.array([2,2])\n",
    "print(\"input:{0}, model prediction:{1}\".format(indata, model(indata)))"
   ]
  },
  {
   "cell_type": "code",
   "execution_count": null,
   "id": "fa6869c2",
   "metadata": {},
   "outputs": [],
   "source": []
  }
 ],
 "metadata": {
  "kernelspec": {
   "display_name": "Python 3",
   "language": "python",
   "name": "python3"
  },
  "language_info": {
   "codemirror_mode": {
    "name": "ipython",
    "version": 3
   },
   "file_extension": ".py",
   "mimetype": "text/x-python",
   "name": "python",
   "nbconvert_exporter": "python",
   "pygments_lexer": "ipython3",
   "version": "3.9.7"
  }
 },
 "nbformat": 4,
 "nbformat_minor": 5
}
