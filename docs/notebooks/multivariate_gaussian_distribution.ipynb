{
 "cells": [
  {
   "cell_type": "code",
   "execution_count": 1,
   "id": "bb9ce462",
   "metadata": {},
   "outputs": [],
   "source": [
    "import numpy as np\n",
    "import matplotlib.pyplot as plt \n",
    "from linna.main import ml_sampler\n",
    "from linna.util import *\n",
    "%load_ext autoreload\n",
    "%autoreload 2 \n",
    "%matplotlib inline "
   ]
  },
  {
   "cell_type": "markdown",
   "id": "a2f0fbbf",
   "metadata": {},
   "source": [
    "In this notebook, we sample a 2d gaussian posterior using LINNA. LINNA isn't designed for low dimension posteiors, so the performance will not be great. However, this notebook illustrates how one can use LINNA to sample posteriors. "
   ]
  },
  {
   "cell_type": "markdown",
   "id": "10743380",
   "metadata": {},
   "source": [
    "# Create a multivariate gaussian distribution "
   ]
  },
  {
   "cell_type": "code",
   "execution_count": 2,
   "id": "a4a8c4fa",
   "metadata": {},
   "outputs": [],
   "source": [
    "ndim = 2\n",
    "init =  np.random.uniform(size=ndim)\n",
    "#mean value \n",
    "means = np.array([0.1, 1])\n",
    "\n",
    "ndim = len(init)\n",
    "#covariance matrix \n",
    "cov = np.diag([0.5, 0.2])\n",
    "#Prior, Theory, and likelihood\n",
    "\n",
    "priors = []\n",
    "for i in range(ndim):\n",
    "    priors.append({\n",
    "        'param': 'test_{0}'.format(i),\n",
    "        'dist': 'flat',\n",
    "        'arg1': -2,\n",
    "        'arg2':2\n",
    "    })\n",
    "\n",
    "def theory(x, outdirs):\n",
    "    x_new = deepcopy(x[1])\n",
    "    return x_new"
   ]
  },
  {
   "cell_type": "markdown",
   "id": "e80d182a",
   "metadata": {},
   "source": [
    "# Perform MCMC sampling using Linna"
   ]
  },
  {
   "cell_type": "code",
   "execution_count": 3,
   "id": "86cf1a71",
   "metadata": {},
   "outputs": [],
   "source": [
    "nwalkers = 4 #Number of mcmc walker\n",
    "pool = None"
   ]
  },
  {
   "cell_type": "code",
   "execution_count": 4,
   "id": "a688cd37",
   "metadata": {},
   "outputs": [
    {
     "name": "stdout",
     "output_type": "stream",
     "text": [
      "####################################################################################################\n",
      "iteration: 0\n",
      "####################################################################################################\n"
     ]
    },
    {
     "name": "stderr",
     "output_type": "stream",
     "text": [
      "Initialising ensemble of 4 walkers...\n",
      "Sampling progress :   1%|          | 5100/1000000 [02:27<7:59:05, 34.61it/s] "
     ]
    },
    {
     "name": "stdout",
     "output_type": "stream",
     "text": [
      "####################################################################################################\n",
      "iteration: 1\n"
     ]
    },
    {
     "name": "stderr",
     "output_type": "stream",
     "text": [
      "\n"
     ]
    },
    {
     "name": "stdout",
     "output_type": "stream",
     "text": [
      "####################################################################################################\n"
     ]
    },
    {
     "name": "stderr",
     "output_type": "stream",
     "text": [
      "Initialising ensemble of 4 walkers...\n",
      "Sampling progress :   0%|          | 1000/1000000 [00:31<8:47:54, 31.54it/s]"
     ]
    },
    {
     "name": "stdout",
     "output_type": "stream",
     "text": [
      "####################################################################################################\n",
      "iteration: 2\n"
     ]
    },
    {
     "name": "stderr",
     "output_type": "stream",
     "text": [
      "\n"
     ]
    },
    {
     "name": "stdout",
     "output_type": "stream",
     "text": [
      "####################################################################################################\n"
     ]
    },
    {
     "name": "stderr",
     "output_type": "stream",
     "text": [
      "Initialising ensemble of 4 walkers...\n",
      "Sampling progress :   0%|          | 1600/1000000 [00:46<8:07:56, 34.10it/s]"
     ]
    },
    {
     "name": "stdout",
     "output_type": "stream",
     "text": [
      "####################################################################################################\n",
      "iteration: 3\n"
     ]
    },
    {
     "name": "stderr",
     "output_type": "stream",
     "text": [
      "\n"
     ]
    },
    {
     "name": "stdout",
     "output_type": "stream",
     "text": [
      "####################################################################################################\n"
     ]
    },
    {
     "name": "stderr",
     "output_type": "stream",
     "text": [
      "Initialising ensemble of 4 walkers...\n",
      "Sampling progress :   0%|          | 2700/1000000 [01:20<8:13:46, 33.66it/s] \n"
     ]
    }
   ],
   "source": [
    "outdir = os.path.abspath(os.getcwd())+\"/out/2dgaussian/\"\n",
    "gpunode = None\n",
    "chain, logprob = ml_sampler(outdir, theory, priors, means, cov, init, pool, nwalkers, gpunode, nepoch=101)"
   ]
  },
  {
   "cell_type": "markdown",
   "id": "373abca6",
   "metadata": {},
   "source": [
    "# Check the result"
   ]
  },
  {
   "cell_type": "code",
   "execution_count": 5,
   "id": "0c50186c",
   "metadata": {},
   "outputs": [],
   "source": [
    "chain_ref =  np.random.multivariate_normal(means, cov, len(chain)) #Reference point"
   ]
  },
  {
   "cell_type": "code",
   "execution_count": 6,
   "id": "b63b40bd",
   "metadata": {},
   "outputs": [
    {
     "data": {
      "text/plain": [
       "<matplotlib.lines.Line2D at 0x7fa177844b80>"
      ]
     },
     "execution_count": 6,
     "metadata": {},
     "output_type": "execute_result"
    },
    {
     "data": {
      "image/png": "[encoded data removed]",
      "text/plain": [
       "<Figure size 432x288 with 1 Axes>"
      ]
     },
     "metadata": {
      "needs_background": "light"
     },
     "output_type": "display_data"
    }
   ],
   "source": [
    "plt.scatter(chain[:,0], chain[:,1], label=\"gen\",s=2)\n",
    "plt.scatter(chain_ref[:,0], chain_ref[:,1], label=\"ref\", s=2)\n",
    "plt.legend()\n",
    "plt.axvline(means[0], c=\"r\")\n",
    "plt.axhline(means[1], c=\"r\")\n"
   ]
  },
  {
   "cell_type": "markdown",
   "id": "4ea71bed",
   "metadata": {},
   "source": [
    "# Useful performance check tools"
   ]
  },
  {
   "cell_type": "markdown",
   "id": "8572b276",
   "metadata": {},
   "source": [
    "The output of linna has the following struture."
   ]
  },
  {
   "cell_type": "code",
   "execution_count": 2,
   "id": "940aab44",
   "metadata": {},
   "outputs": [
    {
     "name": "stdout",
     "output_type": "stream",
     "text": [
      "/home/users/chto/code/lighthouse/python/nnacc/nnacc/linna/linna/docs/notebooks/out/2dgaussian/\r\n",
      "├── iter_0\r\n",
      "│   ├── best.pth.tar\r\n",
      "│   ├── finish.pkl\r\n",
      "│   ├── last.pth.tar\r\n",
      "│   ├── lr.npy\r\n",
      "│   ├── lr_tunning.png\r\n",
      "│   ├── model_args.pkl\r\n",
      "│   ├── model_pickle.pkl\r\n",
      "│   ├── train\r\n",
      "│   ├── training_progress.png\r\n",
      "│   ├── trainniing.png\r\n",
      "│   ├── train_samples_x.txt\r\n",
      "│   ├── train_samples_y.npy\r\n",
      "│   ├── val\r\n",
      "│   ├── val_samples_x.txt\r\n",
      "│   ├── val_samples_y.npy\r\n",
      "│   ├── X_transform.pkl\r\n",
      "│   ├── y_invtransform_data.pkl\r\n",
      "│   ├── y_invtransform.pkl\r\n",
      "│   ├── y_transform_data.pkl\r\n",
      "│   ├── y_transform.pkl\r\n",
      "│   └── zeus_256.h5\r\n",
      "├── iter_1\r\n",
      "│   ├── best.pth.tar\r\n",
      "│   ├── finish.pkl\r\n",
      "│   ├── last.pth.tar\r\n",
      "│   ├── lr.npy\r\n",
      "│   ├── lr_tunning.png\r\n",
      "│   ├── model_args.pkl\r\n",
      "│   ├── model_pickle.pkl\r\n",
      "│   ├── train\r\n",
      "│   ├── training_progress.png\r\n",
      "│   ├── trainniing.png\r\n",
      "│   ├── train_samples_x.txt\r\n",
      "│   ├── train_samples_y.npy\r\n",
      "│   ├── val\r\n",
      "│   ├── val_samples_x.txt\r\n",
      "│   ├── val_samples_y.npy\r\n",
      "│   ├── X_transform.pkl\r\n",
      "│   ├── y_invtransform_data.pkl\r\n",
      "│   ├── y_invtransform.pkl\r\n",
      "│   ├── y_transform_data.pkl\r\n",
      "│   ├── y_transform.pkl\r\n",
      "│   └── zeus_256.h5\r\n",
      "├── iter_2\r\n",
      "│   ├── best.pth.tar\r\n",
      "│   ├── finish.pkl\r\n",
      "│   ├── last.pth.tar\r\n",
      "│   ├── lr.npy\r\n",
      "│   ├── lr_tunning.png\r\n",
      "│   ├── model_args.pkl\r\n",
      "│   ├── model_pickle.pkl\r\n",
      "│   ├── train\r\n",
      "│   ├── training_progress.png\r\n",
      "│   ├── trainniing.png\r\n",
      "│   ├── train_samples_x.txt\r\n",
      "│   ├── train_samples_y.npy\r\n",
      "│   ├── val\r\n",
      "│   ├── val_samples_x.txt\r\n",
      "│   ├── val_samples_y.npy\r\n",
      "│   ├── X_transform.pkl\r\n",
      "│   ├── y_invtransform_data.pkl\r\n",
      "│   ├── y_invtransform.pkl\r\n",
      "│   ├── y_transform_data.pkl\r\n",
      "│   ├── y_transform.pkl\r\n",
      "│   └── zeus_256.h5\r\n",
      "└── iter_3\r\n",
      "    ├── best.pth.tar\r\n",
      "    ├── finish.pkl\r\n",
      "    ├── last.pth.tar\r\n",
      "    ├── lr.npy\r\n",
      "    ├── lr_tunning.png\r\n",
      "    ├── model_args.pkl\r\n",
      "    ├── model_pickle.pkl\r\n",
      "    ├── train\r\n",
      "    ├── training_progress.png\r\n",
      "    ├── trainniing.png\r\n",
      "    ├── train_samples_x.txt\r\n",
      "    ├── train_samples_y.npy\r\n",
      "    ├── val\r\n",
      "    ├── val_samples_x.txt\r\n",
      "    ├── val_samples_y.npy\r\n",
      "    ├── X_transform.pkl\r\n",
      "    ├── y_invtransform_data.pkl\r\n",
      "    ├── y_invtransform.pkl\r\n",
      "    ├── y_transform_data.pkl\r\n",
      "    ├── y_transform.pkl\r\n",
      "    └── zeus_256.h5\r\n",
      "\r\n",
      "12 directories, 76 files\r\n"
     ]
    }
   ],
   "source": [
    "path = os.path.abspath(os.getcwd())+\"/out/2dgaussian/\"\n",
    "!tree $path"
   ]
  },
  {
   "cell_type": "markdown",
   "id": "ca9a4769",
   "metadata": {},
   "source": [
    "In each iteration, \n",
    "\n",
    "* `training_progress.png`: traning loss and validation loss as a function of training steps. \n",
    "\n",
    "* `last.pth.tar` and `best.pth.tar`: files store the weights of the neural network corresponding to the last step and the step corresponds to the minimal validation loss respectively. \n",
    "\n",
    "* `train_samples_x.txt` and `train_samples_y.npy`: files contain the training points and the corresponding model evaluations at those points. \n",
    "\n",
    "* `val_samples_x.txt` and `val_samples_y.npy`: files contain the validation points and the corresponding model evaluations at those points. \n",
    "\n",
    "* `*transform*.pkl`: corresponds to various transform of the data vector as described in the paper. "
   ]
  },
  {
   "cell_type": "markdown",
   "id": "2545f502",
   "metadata": {},
   "source": [
    "Note that if your job crashs at an iteration, LINNA can be restarted from the previous iteration by cleanining the directories corresponding to the crashed iteration and rerunning the code. "
   ]
  },
  {
   "cell_type": "code",
   "execution_count": 3,
   "id": "05b5ecc3",
   "metadata": {},
   "outputs": [],
   "source": [
    "model = retrieve_model_wrapper_in(path+\"iter_3/\", no_grad=False)"
   ]
  },
  {
   "cell_type": "code",
   "execution_count": 4,
   "id": "2c1d75d8",
   "metadata": {
    "scrolled": true
   },
   "outputs": [
    {
     "name": "stdout",
     "output_type": "stream",
     "text": [
      "input:tensor([2., 2.], requires_grad=True), model prediction:tensor([[2.0062, 2.0018]], grad_fn=<MulBackward0>)\n"
     ]
    }
   ],
   "source": [
    "indata=torch.from_numpy(np.array([2,2]).astype(np.float32)).clone().requires_grad_()\n",
    "print(\"input:{0}, model prediction:{1}\".format(indata, model(indata)))"
   ]
  },
  {
   "cell_type": "code",
   "execution_count": 7,
   "id": "0ef1c004",
   "metadata": {},
   "outputs": [
    {
     "name": "stdout",
     "output_type": "stream",
     "text": [
      "gradient of model[0] at tensor([2., 2.], requires_grad=True) is (tensor([0.9571, 0.0450]),)\n"
     ]
    }
   ],
   "source": [
    "print(\"gradient of model[0] at {0} is {1}\".format(indata, torch.autograd.grad(model(indata)[0][0],indata)))"
   ]
  }
 ],
 "metadata": {
  "kernelspec": {
   "display_name": "Python 3",
   "language": "python",
   "name": "python3"
  },
  "language_info": {
   "codemirror_mode": {
    "name": "ipython",
    "version": 3
   },
   "file_extension": ".py",
   "mimetype": "text/x-python",
   "name": "python",
   "nbconvert_exporter": "python",
   "pygments_lexer": "ipython3",
   "version": "3.9.7"
  }
 },
 "nbformat": 4,
 "nbformat_minor": 5
}
