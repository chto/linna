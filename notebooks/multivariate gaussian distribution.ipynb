{
 "cells": [
  {
   "cell_type": "code",
   "execution_count": 1,
   "id": "b5ef0485",
   "metadata": {},
   "outputs": [],
   "source": [
    "import numpy as np\n",
    "import matplotlib.pyplot as plt \n",
    "from linna import ml_sampler\n",
    "from linna.util import *\n",
    "%load_ext autoreload\n",
    "%autoreload 2 \n",
    "%matplotlib inline "
   ]
  },
  {
   "cell_type": "markdown",
   "id": "c8705873",
   "metadata": {},
   "source": [
    "# Create a multivariate gaussian distribution "
   ]
  },
  {
   "cell_type": "code",
   "execution_count": 2,
   "id": "cac96ffa",
   "metadata": {},
   "outputs": [],
   "source": [
    "ndim = 2\n",
    "init =  np.random.uniform(size=ndim)\n",
    "#mean value \n",
    "means = np.random.uniform(size=ndim)\n",
    "\n",
    "ndim = len(init)\n",
    "#covariance matrix \n",
    "cov = 0.5 - np.random.rand(ndim ** 2).reshape((ndim, ndim))\n",
    "cov = np.triu(cov)\n",
    "cov += cov.T - np.diag(cov.diagonal())\n",
    "cov = np.dot(cov, cov)\n",
    "invcov = np.linalg.pinv(cov)\n",
    "#Prior, Theory, and likelihood\n",
    "priors = []\n",
    "for i in range(ndim):\n",
    "    priors.append({\n",
    "        'param': 'test_{0}'.format(i),\n",
    "        'dist': 'flat',\n",
    "        'arg1': -5.,\n",
    "        'arg2': 5.\n",
    "    })\n",
    "\n",
    "def theory(x, outdirs):\n",
    "    return x\n",
    "\n",
    "def log_prob(x):\n",
    "    d = theory([None, x], None)-means\n",
    "    if np.any(np.abs(x)>100):\n",
    "        return -np.inf\n",
    "    return -0.5*d.dot(invcov.dot(d))"
   ]
  },
  {
   "cell_type": "code",
   "execution_count": 3,
   "id": "eb358ff3",
   "metadata": {},
   "outputs": [],
   "source": [
    "nwalkers = 4\n",
    "pool = chtoMultiprocessPool(nwalkers)"
   ]
  },
  {
   "cell_type": "code",
   "execution_count": null,
   "id": "3da69198",
   "metadata": {},
   "outputs": [],
   "source": [
    "outdir = \"./out/2dgaussian/\"\n",
    "chain, logprob = ml_sampler(outdir, theory, priors, mean, cov, init, pool, nwalkers, gpunode)"
   ]
  }
 ],
 "metadata": {
  "kernelspec": {
   "display_name": "Python 3",
   "language": "python",
   "name": "python3"
  },
  "language_info": {
   "codemirror_mode": {
    "name": "ipython",
    "version": 3
   },
   "file_extension": ".py",
   "mimetype": "text/x-python",
   "name": "python",
   "nbconvert_exporter": "python",
   "pygments_lexer": "ipython3",
   "version": "3.9.7"
  }
 },
 "nbformat": 4,
 "nbformat_minor": 5
}
